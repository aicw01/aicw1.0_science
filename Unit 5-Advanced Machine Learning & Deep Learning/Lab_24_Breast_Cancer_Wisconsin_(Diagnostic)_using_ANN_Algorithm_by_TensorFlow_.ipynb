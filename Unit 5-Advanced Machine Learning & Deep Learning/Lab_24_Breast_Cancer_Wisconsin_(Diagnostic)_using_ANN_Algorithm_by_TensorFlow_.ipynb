{
  "cells": [
    {
      "cell_type": "markdown",
      "id": "fc01e13a",
      "metadata": {
        "id": "fc01e13a"
      },
      "source": [
        "![image-2.png](attachment:image-2.png)"
      ]
    },
    {
      "cell_type": "markdown",
      "id": "c104694e",
      "metadata": {
        "id": "c104694e"
      },
      "source": [
        "# Edunet Foundation : Class Room Exercises"
      ]
    },
    {
      "cell_type": "markdown",
      "id": "d9cdf727",
      "metadata": {
        "id": "d9cdf727"
      },
      "source": [
        "# Lab 24: Breast Cancer Wisconsin (Diagnostic) using ANN Algorithm by TensorFlow\n",
        "\n",
        "### Objective:\n",
        "The objective of applying an Artificial Neural Network (ANN) algorithm using TensorFlow on the Breast Cancer Wisconsin (Diagnostic) dataset is to create a predictive model that can accurately determine whether a breast tumor is malignant or benign based on various medical features derived from a digitized image of a fine needle aspirate (FNA) of a breast mass. The aim is to assist medical professionals in making accurate and timely diagnoses, ultimately improving patient outcomes.\n",
        "\n",
        "### Breast Cancer Wisconsin (Diagnostic) Dataset:\n",
        "The Breast Cancer Wisconsin (Diagnostic) dataset is a popular dataset used in machine learning and medical research. It consists of 569 samples of breast cancer cases, each with 30 features derived from a digitized image of a fine needle aspirate (FNA) of a breast mass. These features describe the characteristics of the cell nuclei present in the image. The dataset is divided into two classes: benign (non-cancerous) and malignant (cancerous).\n",
        "\n",
        "Dataset link: https://www.kaggle.com/datasets/jeandedieunyandwi/breast-cancer-dataset-uci-ml"
      ]
    },
    {
      "cell_type": "code",
      "execution_count": 1,
      "id": "02bd9d0c",
      "metadata": {
        "id": "02bd9d0c"
      },
      "outputs": [],
      "source": [
        "import numpy as np\n",
        "import pandas as pd\n",
        "import matplotlib.pyplot as plt\n",
        "import seaborn as sns"
      ]
    },
    {
      "cell_type": "code",
      "execution_count": null,
      "id": "4231243d",
      "metadata": {
        "id": "4231243d"
      },
      "outputs": [],
      "source": [
        "df = pd.read_csv(\"breast-cancer-wisconsin.csv\")"
      ]
    },
    {
      "cell_type": "code",
      "execution_count": null,
      "id": "29a7efac",
      "metadata": {
        "id": "29a7efac",
        "outputId": "78055bdb-63af-49aa-d88e-9369295a67d6"
      },
      "outputs": [
        {
          "data": {
            "text/html": [
              "<div>\n",
              "<style scoped>\n",
              "    .dataframe tbody tr th:only-of-type {\n",
              "        vertical-align: middle;\n",
              "    }\n",
              "\n",
              "    .dataframe tbody tr th {\n",
              "        vertical-align: top;\n",
              "    }\n",
              "\n",
              "    .dataframe thead th {\n",
              "        text-align: right;\n",
              "    }\n",
              "</style>\n",
              "<table border=\"1\" class=\"dataframe\">\n",
              "  <thead>\n",
              "    <tr style=\"text-align: right;\">\n",
              "      <th></th>\n",
              "      <th>id</th>\n",
              "      <th>diagnosis</th>\n",
              "      <th>radius_mean</th>\n",
              "      <th>texture_mean</th>\n",
              "      <th>perimeter_mean</th>\n",
              "      <th>area_mean</th>\n",
              "      <th>smoothness_mean</th>\n",
              "      <th>compactness_mean</th>\n",
              "      <th>concavity_mean</th>\n",
              "      <th>concave points_mean</th>\n",
              "      <th>...</th>\n",
              "      <th>texture_worst</th>\n",
              "      <th>perimeter_worst</th>\n",
              "      <th>area_worst</th>\n",
              "      <th>smoothness_worst</th>\n",
              "      <th>compactness_worst</th>\n",
              "      <th>concavity_worst</th>\n",
              "      <th>concave points_worst</th>\n",
              "      <th>symmetry_worst</th>\n",
              "      <th>fractal_dimension_worst</th>\n",
              "      <th>Unnamed: 32</th>\n",
              "    </tr>\n",
              "  </thead>\n",
              "  <tbody>\n",
              "    <tr>\n",
              "      <th>0</th>\n",
              "      <td>842302</td>\n",
              "      <td>M</td>\n",
              "      <td>17.99</td>\n",
              "      <td>10.38</td>\n",
              "      <td>122.80</td>\n",
              "      <td>1001.0</td>\n",
              "      <td>0.11840</td>\n",
              "      <td>0.27760</td>\n",
              "      <td>0.3001</td>\n",
              "      <td>0.14710</td>\n",
              "      <td>...</td>\n",
              "      <td>17.33</td>\n",
              "      <td>184.60</td>\n",
              "      <td>2019.0</td>\n",
              "      <td>0.1622</td>\n",
              "      <td>0.6656</td>\n",
              "      <td>0.7119</td>\n",
              "      <td>0.2654</td>\n",
              "      <td>0.4601</td>\n",
              "      <td>0.11890</td>\n",
              "      <td>NaN</td>\n",
              "    </tr>\n",
              "    <tr>\n",
              "      <th>1</th>\n",
              "      <td>842517</td>\n",
              "      <td>M</td>\n",
              "      <td>20.57</td>\n",
              "      <td>17.77</td>\n",
              "      <td>132.90</td>\n",
              "      <td>1326.0</td>\n",
              "      <td>0.08474</td>\n",
              "      <td>0.07864</td>\n",
              "      <td>0.0869</td>\n",
              "      <td>0.07017</td>\n",
              "      <td>...</td>\n",
              "      <td>23.41</td>\n",
              "      <td>158.80</td>\n",
              "      <td>1956.0</td>\n",
              "      <td>0.1238</td>\n",
              "      <td>0.1866</td>\n",
              "      <td>0.2416</td>\n",
              "      <td>0.1860</td>\n",
              "      <td>0.2750</td>\n",
              "      <td>0.08902</td>\n",
              "      <td>NaN</td>\n",
              "    </tr>\n",
              "    <tr>\n",
              "      <th>2</th>\n",
              "      <td>84300903</td>\n",
              "      <td>M</td>\n",
              "      <td>19.69</td>\n",
              "      <td>21.25</td>\n",
              "      <td>130.00</td>\n",
              "      <td>1203.0</td>\n",
              "      <td>0.10960</td>\n",
              "      <td>0.15990</td>\n",
              "      <td>0.1974</td>\n",
              "      <td>0.12790</td>\n",
              "      <td>...</td>\n",
              "      <td>25.53</td>\n",
              "      <td>152.50</td>\n",
              "      <td>1709.0</td>\n",
              "      <td>0.1444</td>\n",
              "      <td>0.4245</td>\n",
              "      <td>0.4504</td>\n",
              "      <td>0.2430</td>\n",
              "      <td>0.3613</td>\n",
              "      <td>0.08758</td>\n",
              "      <td>NaN</td>\n",
              "    </tr>\n",
              "    <tr>\n",
              "      <th>3</th>\n",
              "      <td>84348301</td>\n",
              "      <td>M</td>\n",
              "      <td>11.42</td>\n",
              "      <td>20.38</td>\n",
              "      <td>77.58</td>\n",
              "      <td>386.1</td>\n",
              "      <td>0.14250</td>\n",
              "      <td>0.28390</td>\n",
              "      <td>0.2414</td>\n",
              "      <td>0.10520</td>\n",
              "      <td>...</td>\n",
              "      <td>26.50</td>\n",
              "      <td>98.87</td>\n",
              "      <td>567.7</td>\n",
              "      <td>0.2098</td>\n",
              "      <td>0.8663</td>\n",
              "      <td>0.6869</td>\n",
              "      <td>0.2575</td>\n",
              "      <td>0.6638</td>\n",
              "      <td>0.17300</td>\n",
              "      <td>NaN</td>\n",
              "    </tr>\n",
              "    <tr>\n",
              "      <th>4</th>\n",
              "      <td>84358402</td>\n",
              "      <td>M</td>\n",
              "      <td>20.29</td>\n",
              "      <td>14.34</td>\n",
              "      <td>135.10</td>\n",
              "      <td>1297.0</td>\n",
              "      <td>0.10030</td>\n",
              "      <td>0.13280</td>\n",
              "      <td>0.1980</td>\n",
              "      <td>0.10430</td>\n",
              "      <td>...</td>\n",
              "      <td>16.67</td>\n",
              "      <td>152.20</td>\n",
              "      <td>1575.0</td>\n",
              "      <td>0.1374</td>\n",
              "      <td>0.2050</td>\n",
              "      <td>0.4000</td>\n",
              "      <td>0.1625</td>\n",
              "      <td>0.2364</td>\n",
              "      <td>0.07678</td>\n",
              "      <td>NaN</td>\n",
              "    </tr>\n",
              "  </tbody>\n",
              "</table>\n",
              "<p>5 rows × 33 columns</p>\n",
              "</div>"
            ],
            "text/plain": [
              "         id diagnosis  radius_mean  texture_mean  perimeter_mean  area_mean  \\\n",
              "0    842302         M        17.99         10.38          122.80     1001.0   \n",
              "1    842517         M        20.57         17.77          132.90     1326.0   \n",
              "2  84300903         M        19.69         21.25          130.00     1203.0   \n",
              "3  84348301         M        11.42         20.38           77.58      386.1   \n",
              "4  84358402         M        20.29         14.34          135.10     1297.0   \n",
              "\n",
              "   smoothness_mean  compactness_mean  concavity_mean  concave points_mean  \\\n",
              "0          0.11840           0.27760          0.3001              0.14710   \n",
              "1          0.08474           0.07864          0.0869              0.07017   \n",
              "2          0.10960           0.15990          0.1974              0.12790   \n",
              "3          0.14250           0.28390          0.2414              0.10520   \n",
              "4          0.10030           0.13280          0.1980              0.10430   \n",
              "\n",
              "   ...  texture_worst  perimeter_worst  area_worst  smoothness_worst  \\\n",
              "0  ...          17.33           184.60      2019.0            0.1622   \n",
              "1  ...          23.41           158.80      1956.0            0.1238   \n",
              "2  ...          25.53           152.50      1709.0            0.1444   \n",
              "3  ...          26.50            98.87       567.7            0.2098   \n",
              "4  ...          16.67           152.20      1575.0            0.1374   \n",
              "\n",
              "   compactness_worst  concavity_worst  concave points_worst  symmetry_worst  \\\n",
              "0             0.6656           0.7119                0.2654          0.4601   \n",
              "1             0.1866           0.2416                0.1860          0.2750   \n",
              "2             0.4245           0.4504                0.2430          0.3613   \n",
              "3             0.8663           0.6869                0.2575          0.6638   \n",
              "4             0.2050           0.4000                0.1625          0.2364   \n",
              "\n",
              "   fractal_dimension_worst  Unnamed: 32  \n",
              "0                  0.11890          NaN  \n",
              "1                  0.08902          NaN  \n",
              "2                  0.08758          NaN  \n",
              "3                  0.17300          NaN  \n",
              "4                  0.07678          NaN  \n",
              "\n",
              "[5 rows x 33 columns]"
            ]
          },
          "execution_count": 3,
          "metadata": {},
          "output_type": "execute_result"
        }
      ],
      "source": [
        "df.head()"
      ]
    },
    {
      "cell_type": "code",
      "execution_count": null,
      "id": "ff774527",
      "metadata": {
        "id": "ff774527",
        "outputId": "6b01d858-e73d-427d-e5cd-bfd60352a310"
      },
      "outputs": [
        {
          "data": {
            "text/html": [
              "<div>\n",
              "<style scoped>\n",
              "    .dataframe tbody tr th:only-of-type {\n",
              "        vertical-align: middle;\n",
              "    }\n",
              "\n",
              "    .dataframe tbody tr th {\n",
              "        vertical-align: top;\n",
              "    }\n",
              "\n",
              "    .dataframe thead th {\n",
              "        text-align: right;\n",
              "    }\n",
              "</style>\n",
              "<table border=\"1\" class=\"dataframe\">\n",
              "  <thead>\n",
              "    <tr style=\"text-align: right;\">\n",
              "      <th></th>\n",
              "      <th>id</th>\n",
              "      <th>diagnosis</th>\n",
              "      <th>radius_mean</th>\n",
              "      <th>texture_mean</th>\n",
              "      <th>perimeter_mean</th>\n",
              "      <th>area_mean</th>\n",
              "      <th>smoothness_mean</th>\n",
              "      <th>compactness_mean</th>\n",
              "      <th>concavity_mean</th>\n",
              "      <th>concave points_mean</th>\n",
              "      <th>...</th>\n",
              "      <th>texture_worst</th>\n",
              "      <th>perimeter_worst</th>\n",
              "      <th>area_worst</th>\n",
              "      <th>smoothness_worst</th>\n",
              "      <th>compactness_worst</th>\n",
              "      <th>concavity_worst</th>\n",
              "      <th>concave points_worst</th>\n",
              "      <th>symmetry_worst</th>\n",
              "      <th>fractal_dimension_worst</th>\n",
              "      <th>Unnamed: 32</th>\n",
              "    </tr>\n",
              "  </thead>\n",
              "  <tbody>\n",
              "    <tr>\n",
              "      <th>564</th>\n",
              "      <td>926424</td>\n",
              "      <td>M</td>\n",
              "      <td>21.56</td>\n",
              "      <td>22.39</td>\n",
              "      <td>142.00</td>\n",
              "      <td>1479.0</td>\n",
              "      <td>0.11100</td>\n",
              "      <td>0.11590</td>\n",
              "      <td>0.24390</td>\n",
              "      <td>0.13890</td>\n",
              "      <td>...</td>\n",
              "      <td>26.40</td>\n",
              "      <td>166.10</td>\n",
              "      <td>2027.0</td>\n",
              "      <td>0.14100</td>\n",
              "      <td>0.21130</td>\n",
              "      <td>0.4107</td>\n",
              "      <td>0.2216</td>\n",
              "      <td>0.2060</td>\n",
              "      <td>0.07115</td>\n",
              "      <td>NaN</td>\n",
              "    </tr>\n",
              "    <tr>\n",
              "      <th>565</th>\n",
              "      <td>926682</td>\n",
              "      <td>M</td>\n",
              "      <td>20.13</td>\n",
              "      <td>28.25</td>\n",
              "      <td>131.20</td>\n",
              "      <td>1261.0</td>\n",
              "      <td>0.09780</td>\n",
              "      <td>0.10340</td>\n",
              "      <td>0.14400</td>\n",
              "      <td>0.09791</td>\n",
              "      <td>...</td>\n",
              "      <td>38.25</td>\n",
              "      <td>155.00</td>\n",
              "      <td>1731.0</td>\n",
              "      <td>0.11660</td>\n",
              "      <td>0.19220</td>\n",
              "      <td>0.3215</td>\n",
              "      <td>0.1628</td>\n",
              "      <td>0.2572</td>\n",
              "      <td>0.06637</td>\n",
              "      <td>NaN</td>\n",
              "    </tr>\n",
              "    <tr>\n",
              "      <th>566</th>\n",
              "      <td>926954</td>\n",
              "      <td>M</td>\n",
              "      <td>16.60</td>\n",
              "      <td>28.08</td>\n",
              "      <td>108.30</td>\n",
              "      <td>858.1</td>\n",
              "      <td>0.08455</td>\n",
              "      <td>0.10230</td>\n",
              "      <td>0.09251</td>\n",
              "      <td>0.05302</td>\n",
              "      <td>...</td>\n",
              "      <td>34.12</td>\n",
              "      <td>126.70</td>\n",
              "      <td>1124.0</td>\n",
              "      <td>0.11390</td>\n",
              "      <td>0.30940</td>\n",
              "      <td>0.3403</td>\n",
              "      <td>0.1418</td>\n",
              "      <td>0.2218</td>\n",
              "      <td>0.07820</td>\n",
              "      <td>NaN</td>\n",
              "    </tr>\n",
              "    <tr>\n",
              "      <th>567</th>\n",
              "      <td>927241</td>\n",
              "      <td>M</td>\n",
              "      <td>20.60</td>\n",
              "      <td>29.33</td>\n",
              "      <td>140.10</td>\n",
              "      <td>1265.0</td>\n",
              "      <td>0.11780</td>\n",
              "      <td>0.27700</td>\n",
              "      <td>0.35140</td>\n",
              "      <td>0.15200</td>\n",
              "      <td>...</td>\n",
              "      <td>39.42</td>\n",
              "      <td>184.60</td>\n",
              "      <td>1821.0</td>\n",
              "      <td>0.16500</td>\n",
              "      <td>0.86810</td>\n",
              "      <td>0.9387</td>\n",
              "      <td>0.2650</td>\n",
              "      <td>0.4087</td>\n",
              "      <td>0.12400</td>\n",
              "      <td>NaN</td>\n",
              "    </tr>\n",
              "    <tr>\n",
              "      <th>568</th>\n",
              "      <td>92751</td>\n",
              "      <td>B</td>\n",
              "      <td>7.76</td>\n",
              "      <td>24.54</td>\n",
              "      <td>47.92</td>\n",
              "      <td>181.0</td>\n",
              "      <td>0.05263</td>\n",
              "      <td>0.04362</td>\n",
              "      <td>0.00000</td>\n",
              "      <td>0.00000</td>\n",
              "      <td>...</td>\n",
              "      <td>30.37</td>\n",
              "      <td>59.16</td>\n",
              "      <td>268.6</td>\n",
              "      <td>0.08996</td>\n",
              "      <td>0.06444</td>\n",
              "      <td>0.0000</td>\n",
              "      <td>0.0000</td>\n",
              "      <td>0.2871</td>\n",
              "      <td>0.07039</td>\n",
              "      <td>NaN</td>\n",
              "    </tr>\n",
              "  </tbody>\n",
              "</table>\n",
              "<p>5 rows × 33 columns</p>\n",
              "</div>"
            ],
            "text/plain": [
              "         id diagnosis  radius_mean  texture_mean  perimeter_mean  area_mean  \\\n",
              "564  926424         M        21.56         22.39          142.00     1479.0   \n",
              "565  926682         M        20.13         28.25          131.20     1261.0   \n",
              "566  926954         M        16.60         28.08          108.30      858.1   \n",
              "567  927241         M        20.60         29.33          140.10     1265.0   \n",
              "568   92751         B         7.76         24.54           47.92      181.0   \n",
              "\n",
              "     smoothness_mean  compactness_mean  concavity_mean  concave points_mean  \\\n",
              "564          0.11100           0.11590         0.24390              0.13890   \n",
              "565          0.09780           0.10340         0.14400              0.09791   \n",
              "566          0.08455           0.10230         0.09251              0.05302   \n",
              "567          0.11780           0.27700         0.35140              0.15200   \n",
              "568          0.05263           0.04362         0.00000              0.00000   \n",
              "\n",
              "     ...  texture_worst  perimeter_worst  area_worst  smoothness_worst  \\\n",
              "564  ...          26.40           166.10      2027.0           0.14100   \n",
              "565  ...          38.25           155.00      1731.0           0.11660   \n",
              "566  ...          34.12           126.70      1124.0           0.11390   \n",
              "567  ...          39.42           184.60      1821.0           0.16500   \n",
              "568  ...          30.37            59.16       268.6           0.08996   \n",
              "\n",
              "     compactness_worst  concavity_worst  concave points_worst  symmetry_worst  \\\n",
              "564            0.21130           0.4107                0.2216          0.2060   \n",
              "565            0.19220           0.3215                0.1628          0.2572   \n",
              "566            0.30940           0.3403                0.1418          0.2218   \n",
              "567            0.86810           0.9387                0.2650          0.4087   \n",
              "568            0.06444           0.0000                0.0000          0.2871   \n",
              "\n",
              "     fractal_dimension_worst  Unnamed: 32  \n",
              "564                  0.07115          NaN  \n",
              "565                  0.06637          NaN  \n",
              "566                  0.07820          NaN  \n",
              "567                  0.12400          NaN  \n",
              "568                  0.07039          NaN  \n",
              "\n",
              "[5 rows x 33 columns]"
            ]
          },
          "execution_count": 4,
          "metadata": {},
          "output_type": "execute_result"
        }
      ],
      "source": [
        "df.tail()"
      ]
    },
    {
      "cell_type": "code",
      "execution_count": null,
      "id": "75f4271a",
      "metadata": {
        "id": "75f4271a",
        "outputId": "cf37bb6b-5e90-43f3-a30d-a297efaea997"
      },
      "outputs": [
        {
          "data": {
            "text/html": [
              "<div>\n",
              "<style scoped>\n",
              "    .dataframe tbody tr th:only-of-type {\n",
              "        vertical-align: middle;\n",
              "    }\n",
              "\n",
              "    .dataframe tbody tr th {\n",
              "        vertical-align: top;\n",
              "    }\n",
              "\n",
              "    .dataframe thead th {\n",
              "        text-align: right;\n",
              "    }\n",
              "</style>\n",
              "<table border=\"1\" class=\"dataframe\">\n",
              "  <thead>\n",
              "    <tr style=\"text-align: right;\">\n",
              "      <th></th>\n",
              "      <th>id</th>\n",
              "      <th>diagnosis</th>\n",
              "      <th>radius_mean</th>\n",
              "      <th>texture_mean</th>\n",
              "      <th>perimeter_mean</th>\n",
              "      <th>area_mean</th>\n",
              "      <th>smoothness_mean</th>\n",
              "      <th>compactness_mean</th>\n",
              "      <th>concavity_mean</th>\n",
              "      <th>concave points_mean</th>\n",
              "      <th>...</th>\n",
              "      <th>texture_worst</th>\n",
              "      <th>perimeter_worst</th>\n",
              "      <th>area_worst</th>\n",
              "      <th>smoothness_worst</th>\n",
              "      <th>compactness_worst</th>\n",
              "      <th>concavity_worst</th>\n",
              "      <th>concave points_worst</th>\n",
              "      <th>symmetry_worst</th>\n",
              "      <th>fractal_dimension_worst</th>\n",
              "      <th>Unnamed: 32</th>\n",
              "    </tr>\n",
              "  </thead>\n",
              "  <tbody>\n",
              "    <tr>\n",
              "      <th>358</th>\n",
              "      <td>9010333</td>\n",
              "      <td>B</td>\n",
              "      <td>8.878</td>\n",
              "      <td>15.49</td>\n",
              "      <td>56.74</td>\n",
              "      <td>241.0</td>\n",
              "      <td>0.08293</td>\n",
              "      <td>0.07698</td>\n",
              "      <td>0.04721</td>\n",
              "      <td>0.02381</td>\n",
              "      <td>...</td>\n",
              "      <td>17.70</td>\n",
              "      <td>65.27</td>\n",
              "      <td>302.0</td>\n",
              "      <td>0.1015</td>\n",
              "      <td>0.1248</td>\n",
              "      <td>0.09441</td>\n",
              "      <td>0.04762</td>\n",
              "      <td>0.2434</td>\n",
              "      <td>0.07431</td>\n",
              "      <td>NaN</td>\n",
              "    </tr>\n",
              "    <tr>\n",
              "      <th>417</th>\n",
              "      <td>90602302</td>\n",
              "      <td>M</td>\n",
              "      <td>15.500</td>\n",
              "      <td>21.08</td>\n",
              "      <td>102.90</td>\n",
              "      <td>803.1</td>\n",
              "      <td>0.11200</td>\n",
              "      <td>0.15710</td>\n",
              "      <td>0.15220</td>\n",
              "      <td>0.08481</td>\n",
              "      <td>...</td>\n",
              "      <td>27.65</td>\n",
              "      <td>157.10</td>\n",
              "      <td>1748.0</td>\n",
              "      <td>0.1517</td>\n",
              "      <td>0.4002</td>\n",
              "      <td>0.42110</td>\n",
              "      <td>0.21340</td>\n",
              "      <td>0.3003</td>\n",
              "      <td>0.10480</td>\n",
              "      <td>NaN</td>\n",
              "    </tr>\n",
              "    <tr>\n",
              "      <th>349</th>\n",
              "      <td>899147</td>\n",
              "      <td>B</td>\n",
              "      <td>11.950</td>\n",
              "      <td>14.96</td>\n",
              "      <td>77.23</td>\n",
              "      <td>426.7</td>\n",
              "      <td>0.11580</td>\n",
              "      <td>0.12060</td>\n",
              "      <td>0.01171</td>\n",
              "      <td>0.01787</td>\n",
              "      <td>...</td>\n",
              "      <td>17.72</td>\n",
              "      <td>83.09</td>\n",
              "      <td>496.2</td>\n",
              "      <td>0.1293</td>\n",
              "      <td>0.1885</td>\n",
              "      <td>0.03122</td>\n",
              "      <td>0.04766</td>\n",
              "      <td>0.3124</td>\n",
              "      <td>0.07590</td>\n",
              "      <td>NaN</td>\n",
              "    </tr>\n",
              "    <tr>\n",
              "      <th>89</th>\n",
              "      <td>861598</td>\n",
              "      <td>B</td>\n",
              "      <td>14.640</td>\n",
              "      <td>15.24</td>\n",
              "      <td>95.77</td>\n",
              "      <td>651.9</td>\n",
              "      <td>0.11320</td>\n",
              "      <td>0.13390</td>\n",
              "      <td>0.09966</td>\n",
              "      <td>0.07064</td>\n",
              "      <td>...</td>\n",
              "      <td>18.24</td>\n",
              "      <td>109.40</td>\n",
              "      <td>803.6</td>\n",
              "      <td>0.1277</td>\n",
              "      <td>0.3089</td>\n",
              "      <td>0.26040</td>\n",
              "      <td>0.13970</td>\n",
              "      <td>0.3151</td>\n",
              "      <td>0.08473</td>\n",
              "      <td>NaN</td>\n",
              "    </tr>\n",
              "    <tr>\n",
              "      <th>537</th>\n",
              "      <td>919812</td>\n",
              "      <td>B</td>\n",
              "      <td>11.690</td>\n",
              "      <td>24.44</td>\n",
              "      <td>76.37</td>\n",
              "      <td>406.4</td>\n",
              "      <td>0.12360</td>\n",
              "      <td>0.15520</td>\n",
              "      <td>0.04515</td>\n",
              "      <td>0.04531</td>\n",
              "      <td>...</td>\n",
              "      <td>32.19</td>\n",
              "      <td>86.12</td>\n",
              "      <td>487.7</td>\n",
              "      <td>0.1768</td>\n",
              "      <td>0.3251</td>\n",
              "      <td>0.13950</td>\n",
              "      <td>0.13080</td>\n",
              "      <td>0.2803</td>\n",
              "      <td>0.09970</td>\n",
              "      <td>NaN</td>\n",
              "    </tr>\n",
              "  </tbody>\n",
              "</table>\n",
              "<p>5 rows × 33 columns</p>\n",
              "</div>"
            ],
            "text/plain": [
              "           id diagnosis  radius_mean  texture_mean  perimeter_mean  area_mean  \\\n",
              "358   9010333         B        8.878         15.49           56.74      241.0   \n",
              "417  90602302         M       15.500         21.08          102.90      803.1   \n",
              "349    899147         B       11.950         14.96           77.23      426.7   \n",
              "89     861598         B       14.640         15.24           95.77      651.9   \n",
              "537    919812         B       11.690         24.44           76.37      406.4   \n",
              "\n",
              "     smoothness_mean  compactness_mean  concavity_mean  concave points_mean  \\\n",
              "358          0.08293           0.07698         0.04721              0.02381   \n",
              "417          0.11200           0.15710         0.15220              0.08481   \n",
              "349          0.11580           0.12060         0.01171              0.01787   \n",
              "89           0.11320           0.13390         0.09966              0.07064   \n",
              "537          0.12360           0.15520         0.04515              0.04531   \n",
              "\n",
              "     ...  texture_worst  perimeter_worst  area_worst  smoothness_worst  \\\n",
              "358  ...          17.70            65.27       302.0            0.1015   \n",
              "417  ...          27.65           157.10      1748.0            0.1517   \n",
              "349  ...          17.72            83.09       496.2            0.1293   \n",
              "89   ...          18.24           109.40       803.6            0.1277   \n",
              "537  ...          32.19            86.12       487.7            0.1768   \n",
              "\n",
              "     compactness_worst  concavity_worst  concave points_worst  symmetry_worst  \\\n",
              "358             0.1248          0.09441               0.04762          0.2434   \n",
              "417             0.4002          0.42110               0.21340          0.3003   \n",
              "349             0.1885          0.03122               0.04766          0.3124   \n",
              "89              0.3089          0.26040               0.13970          0.3151   \n",
              "537             0.3251          0.13950               0.13080          0.2803   \n",
              "\n",
              "     fractal_dimension_worst  Unnamed: 32  \n",
              "358                  0.07431          NaN  \n",
              "417                  0.10480          NaN  \n",
              "349                  0.07590          NaN  \n",
              "89                   0.08473          NaN  \n",
              "537                  0.09970          NaN  \n",
              "\n",
              "[5 rows x 33 columns]"
            ]
          },
          "execution_count": 5,
          "metadata": {},
          "output_type": "execute_result"
        }
      ],
      "source": [
        "df.sample(5)"
      ]
    },
    {
      "cell_type": "code",
      "execution_count": null,
      "id": "3962319f",
      "metadata": {
        "id": "3962319f",
        "outputId": "81616e0a-6410-4240-ba46-13f6be277261"
      },
      "outputs": [
        {
          "data": {
            "text/plain": [
              "Index(['id', 'diagnosis', 'radius_mean', 'texture_mean', 'perimeter_mean',\n",
              "       'area_mean', 'smoothness_mean', 'compactness_mean', 'concavity_mean',\n",
              "       'concave points_mean', 'symmetry_mean', 'fractal_dimension_mean',\n",
              "       'radius_se', 'texture_se', 'perimeter_se', 'area_se', 'smoothness_se',\n",
              "       'compactness_se', 'concavity_se', 'concave points_se', 'symmetry_se',\n",
              "       'fractal_dimension_se', 'radius_worst', 'texture_worst',\n",
              "       'perimeter_worst', 'area_worst', 'smoothness_worst',\n",
              "       'compactness_worst', 'concavity_worst', 'concave points_worst',\n",
              "       'symmetry_worst', 'fractal_dimension_worst', 'Unnamed: 32'],\n",
              "      dtype='object')"
            ]
          },
          "execution_count": 6,
          "metadata": {},
          "output_type": "execute_result"
        }
      ],
      "source": [
        "df.columns"
      ]
    },
    {
      "cell_type": "code",
      "execution_count": null,
      "id": "557cb003",
      "metadata": {
        "id": "557cb003",
        "outputId": "b40610c2-ec61-42f8-be0e-b4f2e1225576"
      },
      "outputs": [
        {
          "data": {
            "text/plain": [
              "(569, 33)"
            ]
          },
          "execution_count": 7,
          "metadata": {},
          "output_type": "execute_result"
        }
      ],
      "source": [
        "df.shape"
      ]
    },
    {
      "cell_type": "code",
      "execution_count": null,
      "id": "d7e939ea",
      "metadata": {
        "colab": {
          "base_uri": "https://localhost:8080/"
        },
        "id": "d7e939ea",
        "outputId": "f48360d1-62e2-4a04-cb46-27a368a41965"
      },
      "outputs": [
        {
          "name": "stdout",
          "output_type": "stream",
          "text": [
            "<class 'pandas.core.frame.DataFrame'>\n",
            "RangeIndex: 569 entries, 0 to 568\n",
            "Data columns (total 33 columns):\n",
            " #   Column                   Non-Null Count  Dtype  \n",
            "---  ------                   --------------  -----  \n",
            " 0   id                       569 non-null    int64  \n",
            " 1   diagnosis                569 non-null    object \n",
            " 2   radius_mean              569 non-null    float64\n",
            " 3   texture_mean             569 non-null    float64\n",
            " 4   perimeter_mean           569 non-null    float64\n",
            " 5   area_mean                569 non-null    float64\n",
            " 6   smoothness_mean          569 non-null    float64\n",
            " 7   compactness_mean         569 non-null    float64\n",
            " 8   concavity_mean           569 non-null    float64\n",
            " 9   concave points_mean      569 non-null    float64\n",
            " 10  symmetry_mean            569 non-null    float64\n",
            " 11  fractal_dimension_mean   569 non-null    float64\n",
            " 12  radius_se                569 non-null    float64\n",
            " 13  texture_se               569 non-null    float64\n",
            " 14  perimeter_se             569 non-null    float64\n",
            " 15  area_se                  569 non-null    float64\n",
            " 16  smoothness_se            569 non-null    float64\n",
            " 17  compactness_se           569 non-null    float64\n",
            " 18  concavity_se             569 non-null    float64\n",
            " 19  concave points_se        569 non-null    float64\n",
            " 20  symmetry_se              569 non-null    float64\n",
            " 21  fractal_dimension_se     569 non-null    float64\n",
            " 22  radius_worst             569 non-null    float64\n",
            " 23  texture_worst            569 non-null    float64\n",
            " 24  perimeter_worst          569 non-null    float64\n",
            " 25  area_worst               569 non-null    float64\n",
            " 26  smoothness_worst         569 non-null    float64\n",
            " 27  compactness_worst        569 non-null    float64\n",
            " 28  concavity_worst          569 non-null    float64\n",
            " 29  concave points_worst     569 non-null    float64\n",
            " 30  symmetry_worst           569 non-null    float64\n",
            " 31  fractal_dimension_worst  569 non-null    float64\n",
            " 32  Unnamed: 32              0 non-null      float64\n",
            "dtypes: float64(31), int64(1), object(1)\n",
            "memory usage: 146.8+ KB\n"
          ]
        }
      ],
      "source": [
        "df.info()\n",
        "# checking for null values"
      ]
    },
    {
      "cell_type": "code",
      "execution_count": null,
      "id": "_ktJk3koWhfj",
      "metadata": {
        "colab": {
          "base_uri": "https://localhost:8080/"
        },
        "id": "_ktJk3koWhfj",
        "outputId": "177b8a5f-83ad-454e-f1ef-2cda5c827874"
      },
      "outputs": [
        {
          "data": {
            "text/plain": [
              "id                           0\n",
              "diagnosis                    0\n",
              "radius_mean                  0\n",
              "texture_mean                 0\n",
              "perimeter_mean               0\n",
              "area_mean                    0\n",
              "smoothness_mean              0\n",
              "compactness_mean             0\n",
              "concavity_mean               0\n",
              "concave points_mean          0\n",
              "symmetry_mean                0\n",
              "fractal_dimension_mean       0\n",
              "radius_se                    0\n",
              "texture_se                   0\n",
              "perimeter_se                 0\n",
              "area_se                      0\n",
              "smoothness_se                0\n",
              "compactness_se               0\n",
              "concavity_se                 0\n",
              "concave points_se            0\n",
              "symmetry_se                  0\n",
              "fractal_dimension_se         0\n",
              "radius_worst                 0\n",
              "texture_worst                0\n",
              "perimeter_worst              0\n",
              "area_worst                   0\n",
              "smoothness_worst             0\n",
              "compactness_worst            0\n",
              "concavity_worst              0\n",
              "concave points_worst         0\n",
              "symmetry_worst               0\n",
              "fractal_dimension_worst      0\n",
              "Unnamed: 32                569\n",
              "dtype: int64"
            ]
          },
          "execution_count": 9,
          "metadata": {},
          "output_type": "execute_result"
        }
      ],
      "source": [
        "df.isnull().sum()"
      ]
    },
    {
      "cell_type": "code",
      "execution_count": null,
      "id": "4b3eb8ac",
      "metadata": {
        "id": "4b3eb8ac",
        "outputId": "d5a24c7e-d8bd-4afe-8c35-5db859874bb0"
      },
      "outputs": [
        {
          "data": {
            "text/html": [
              "<div>\n",
              "<style scoped>\n",
              "    .dataframe tbody tr th:only-of-type {\n",
              "        vertical-align: middle;\n",
              "    }\n",
              "\n",
              "    .dataframe tbody tr th {\n",
              "        vertical-align: top;\n",
              "    }\n",
              "\n",
              "    .dataframe thead th {\n",
              "        text-align: right;\n",
              "    }\n",
              "</style>\n",
              "<table border=\"1\" class=\"dataframe\">\n",
              "  <thead>\n",
              "    <tr style=\"text-align: right;\">\n",
              "      <th></th>\n",
              "      <th>id</th>\n",
              "      <th>diagnosis</th>\n",
              "      <th>radius_mean</th>\n",
              "      <th>texture_mean</th>\n",
              "      <th>perimeter_mean</th>\n",
              "      <th>area_mean</th>\n",
              "      <th>smoothness_mean</th>\n",
              "      <th>compactness_mean</th>\n",
              "      <th>concavity_mean</th>\n",
              "      <th>concave points_mean</th>\n",
              "      <th>...</th>\n",
              "      <th>texture_worst</th>\n",
              "      <th>perimeter_worst</th>\n",
              "      <th>area_worst</th>\n",
              "      <th>smoothness_worst</th>\n",
              "      <th>compactness_worst</th>\n",
              "      <th>concavity_worst</th>\n",
              "      <th>concave points_worst</th>\n",
              "      <th>symmetry_worst</th>\n",
              "      <th>fractal_dimension_worst</th>\n",
              "      <th>Unnamed: 32</th>\n",
              "    </tr>\n",
              "  </thead>\n",
              "  <tbody>\n",
              "    <tr>\n",
              "      <th>0</th>\n",
              "      <td>842302</td>\n",
              "      <td>M</td>\n",
              "      <td>17.99</td>\n",
              "      <td>10.38</td>\n",
              "      <td>122.80</td>\n",
              "      <td>1001.0</td>\n",
              "      <td>0.11840</td>\n",
              "      <td>0.27760</td>\n",
              "      <td>0.3001</td>\n",
              "      <td>0.14710</td>\n",
              "      <td>...</td>\n",
              "      <td>17.33</td>\n",
              "      <td>184.60</td>\n",
              "      <td>2019.0</td>\n",
              "      <td>0.1622</td>\n",
              "      <td>0.6656</td>\n",
              "      <td>0.7119</td>\n",
              "      <td>0.2654</td>\n",
              "      <td>0.4601</td>\n",
              "      <td>0.11890</td>\n",
              "      <td>NaN</td>\n",
              "    </tr>\n",
              "    <tr>\n",
              "      <th>1</th>\n",
              "      <td>842517</td>\n",
              "      <td>M</td>\n",
              "      <td>20.57</td>\n",
              "      <td>17.77</td>\n",
              "      <td>132.90</td>\n",
              "      <td>1326.0</td>\n",
              "      <td>0.08474</td>\n",
              "      <td>0.07864</td>\n",
              "      <td>0.0869</td>\n",
              "      <td>0.07017</td>\n",
              "      <td>...</td>\n",
              "      <td>23.41</td>\n",
              "      <td>158.80</td>\n",
              "      <td>1956.0</td>\n",
              "      <td>0.1238</td>\n",
              "      <td>0.1866</td>\n",
              "      <td>0.2416</td>\n",
              "      <td>0.1860</td>\n",
              "      <td>0.2750</td>\n",
              "      <td>0.08902</td>\n",
              "      <td>NaN</td>\n",
              "    </tr>\n",
              "    <tr>\n",
              "      <th>2</th>\n",
              "      <td>84300903</td>\n",
              "      <td>M</td>\n",
              "      <td>19.69</td>\n",
              "      <td>21.25</td>\n",
              "      <td>130.00</td>\n",
              "      <td>1203.0</td>\n",
              "      <td>0.10960</td>\n",
              "      <td>0.15990</td>\n",
              "      <td>0.1974</td>\n",
              "      <td>0.12790</td>\n",
              "      <td>...</td>\n",
              "      <td>25.53</td>\n",
              "      <td>152.50</td>\n",
              "      <td>1709.0</td>\n",
              "      <td>0.1444</td>\n",
              "      <td>0.4245</td>\n",
              "      <td>0.4504</td>\n",
              "      <td>0.2430</td>\n",
              "      <td>0.3613</td>\n",
              "      <td>0.08758</td>\n",
              "      <td>NaN</td>\n",
              "    </tr>\n",
              "    <tr>\n",
              "      <th>3</th>\n",
              "      <td>84348301</td>\n",
              "      <td>M</td>\n",
              "      <td>11.42</td>\n",
              "      <td>20.38</td>\n",
              "      <td>77.58</td>\n",
              "      <td>386.1</td>\n",
              "      <td>0.14250</td>\n",
              "      <td>0.28390</td>\n",
              "      <td>0.2414</td>\n",
              "      <td>0.10520</td>\n",
              "      <td>...</td>\n",
              "      <td>26.50</td>\n",
              "      <td>98.87</td>\n",
              "      <td>567.7</td>\n",
              "      <td>0.2098</td>\n",
              "      <td>0.8663</td>\n",
              "      <td>0.6869</td>\n",
              "      <td>0.2575</td>\n",
              "      <td>0.6638</td>\n",
              "      <td>0.17300</td>\n",
              "      <td>NaN</td>\n",
              "    </tr>\n",
              "    <tr>\n",
              "      <th>4</th>\n",
              "      <td>84358402</td>\n",
              "      <td>M</td>\n",
              "      <td>20.29</td>\n",
              "      <td>14.34</td>\n",
              "      <td>135.10</td>\n",
              "      <td>1297.0</td>\n",
              "      <td>0.10030</td>\n",
              "      <td>0.13280</td>\n",
              "      <td>0.1980</td>\n",
              "      <td>0.10430</td>\n",
              "      <td>...</td>\n",
              "      <td>16.67</td>\n",
              "      <td>152.20</td>\n",
              "      <td>1575.0</td>\n",
              "      <td>0.1374</td>\n",
              "      <td>0.2050</td>\n",
              "      <td>0.4000</td>\n",
              "      <td>0.1625</td>\n",
              "      <td>0.2364</td>\n",
              "      <td>0.07678</td>\n",
              "      <td>NaN</td>\n",
              "    </tr>\n",
              "  </tbody>\n",
              "</table>\n",
              "<p>5 rows × 33 columns</p>\n",
              "</div>"
            ],
            "text/plain": [
              "         id diagnosis  radius_mean  texture_mean  perimeter_mean  area_mean  \\\n",
              "0    842302         M        17.99         10.38          122.80     1001.0   \n",
              "1    842517         M        20.57         17.77          132.90     1326.0   \n",
              "2  84300903         M        19.69         21.25          130.00     1203.0   \n",
              "3  84348301         M        11.42         20.38           77.58      386.1   \n",
              "4  84358402         M        20.29         14.34          135.10     1297.0   \n",
              "\n",
              "   smoothness_mean  compactness_mean  concavity_mean  concave points_mean  \\\n",
              "0          0.11840           0.27760          0.3001              0.14710   \n",
              "1          0.08474           0.07864          0.0869              0.07017   \n",
              "2          0.10960           0.15990          0.1974              0.12790   \n",
              "3          0.14250           0.28390          0.2414              0.10520   \n",
              "4          0.10030           0.13280          0.1980              0.10430   \n",
              "\n",
              "   ...  texture_worst  perimeter_worst  area_worst  smoothness_worst  \\\n",
              "0  ...          17.33           184.60      2019.0            0.1622   \n",
              "1  ...          23.41           158.80      1956.0            0.1238   \n",
              "2  ...          25.53           152.50      1709.0            0.1444   \n",
              "3  ...          26.50            98.87       567.7            0.2098   \n",
              "4  ...          16.67           152.20      1575.0            0.1374   \n",
              "\n",
              "   compactness_worst  concavity_worst  concave points_worst  symmetry_worst  \\\n",
              "0             0.6656           0.7119                0.2654          0.4601   \n",
              "1             0.1866           0.2416                0.1860          0.2750   \n",
              "2             0.4245           0.4504                0.2430          0.3613   \n",
              "3             0.8663           0.6869                0.2575          0.6638   \n",
              "4             0.2050           0.4000                0.1625          0.2364   \n",
              "\n",
              "   fractal_dimension_worst  Unnamed: 32  \n",
              "0                  0.11890          NaN  \n",
              "1                  0.08902          NaN  \n",
              "2                  0.08758          NaN  \n",
              "3                  0.17300          NaN  \n",
              "4                  0.07678          NaN  \n",
              "\n",
              "[5 rows x 33 columns]"
            ]
          },
          "execution_count": 10,
          "metadata": {},
          "output_type": "execute_result"
        }
      ],
      "source": [
        "df.head()"
      ]
    },
    {
      "cell_type": "code",
      "execution_count": null,
      "id": "3f97ba16",
      "metadata": {
        "id": "3f97ba16"
      },
      "outputs": [],
      "source": [
        "df.loc[df['diagnosis']=='M', 'benign_0__mal_1'] = 1\n",
        "df.loc[df['diagnosis']=='B', 'benign_0__mal_1'] = 0"
      ]
    },
    {
      "cell_type": "code",
      "execution_count": null,
      "id": "27d039a0",
      "metadata": {
        "id": "27d039a0",
        "outputId": "4ec0fe64-ca0d-47cc-8c6a-221d431d1063"
      },
      "outputs": [
        {
          "data": {
            "text/html": [
              "<div>\n",
              "<style scoped>\n",
              "    .dataframe tbody tr th:only-of-type {\n",
              "        vertical-align: middle;\n",
              "    }\n",
              "\n",
              "    .dataframe tbody tr th {\n",
              "        vertical-align: top;\n",
              "    }\n",
              "\n",
              "    .dataframe thead th {\n",
              "        text-align: right;\n",
              "    }\n",
              "</style>\n",
              "<table border=\"1\" class=\"dataframe\">\n",
              "  <thead>\n",
              "    <tr style=\"text-align: right;\">\n",
              "      <th></th>\n",
              "      <th>id</th>\n",
              "      <th>diagnosis</th>\n",
              "      <th>radius_mean</th>\n",
              "      <th>texture_mean</th>\n",
              "      <th>perimeter_mean</th>\n",
              "      <th>area_mean</th>\n",
              "      <th>smoothness_mean</th>\n",
              "      <th>compactness_mean</th>\n",
              "      <th>concavity_mean</th>\n",
              "      <th>concave points_mean</th>\n",
              "      <th>...</th>\n",
              "      <th>perimeter_worst</th>\n",
              "      <th>area_worst</th>\n",
              "      <th>smoothness_worst</th>\n",
              "      <th>compactness_worst</th>\n",
              "      <th>concavity_worst</th>\n",
              "      <th>concave points_worst</th>\n",
              "      <th>symmetry_worst</th>\n",
              "      <th>fractal_dimension_worst</th>\n",
              "      <th>Unnamed: 32</th>\n",
              "      <th>benign_0__mal_1</th>\n",
              "    </tr>\n",
              "  </thead>\n",
              "  <tbody>\n",
              "    <tr>\n",
              "      <th>0</th>\n",
              "      <td>842302</td>\n",
              "      <td>M</td>\n",
              "      <td>17.99</td>\n",
              "      <td>10.38</td>\n",
              "      <td>122.80</td>\n",
              "      <td>1001.0</td>\n",
              "      <td>0.11840</td>\n",
              "      <td>0.27760</td>\n",
              "      <td>0.3001</td>\n",
              "      <td>0.14710</td>\n",
              "      <td>...</td>\n",
              "      <td>184.60</td>\n",
              "      <td>2019.0</td>\n",
              "      <td>0.1622</td>\n",
              "      <td>0.6656</td>\n",
              "      <td>0.7119</td>\n",
              "      <td>0.2654</td>\n",
              "      <td>0.4601</td>\n",
              "      <td>0.11890</td>\n",
              "      <td>NaN</td>\n",
              "      <td>1.0</td>\n",
              "    </tr>\n",
              "    <tr>\n",
              "      <th>1</th>\n",
              "      <td>842517</td>\n",
              "      <td>M</td>\n",
              "      <td>20.57</td>\n",
              "      <td>17.77</td>\n",
              "      <td>132.90</td>\n",
              "      <td>1326.0</td>\n",
              "      <td>0.08474</td>\n",
              "      <td>0.07864</td>\n",
              "      <td>0.0869</td>\n",
              "      <td>0.07017</td>\n",
              "      <td>...</td>\n",
              "      <td>158.80</td>\n",
              "      <td>1956.0</td>\n",
              "      <td>0.1238</td>\n",
              "      <td>0.1866</td>\n",
              "      <td>0.2416</td>\n",
              "      <td>0.1860</td>\n",
              "      <td>0.2750</td>\n",
              "      <td>0.08902</td>\n",
              "      <td>NaN</td>\n",
              "      <td>1.0</td>\n",
              "    </tr>\n",
              "    <tr>\n",
              "      <th>2</th>\n",
              "      <td>84300903</td>\n",
              "      <td>M</td>\n",
              "      <td>19.69</td>\n",
              "      <td>21.25</td>\n",
              "      <td>130.00</td>\n",
              "      <td>1203.0</td>\n",
              "      <td>0.10960</td>\n",
              "      <td>0.15990</td>\n",
              "      <td>0.1974</td>\n",
              "      <td>0.12790</td>\n",
              "      <td>...</td>\n",
              "      <td>152.50</td>\n",
              "      <td>1709.0</td>\n",
              "      <td>0.1444</td>\n",
              "      <td>0.4245</td>\n",
              "      <td>0.4504</td>\n",
              "      <td>0.2430</td>\n",
              "      <td>0.3613</td>\n",
              "      <td>0.08758</td>\n",
              "      <td>NaN</td>\n",
              "      <td>1.0</td>\n",
              "    </tr>\n",
              "    <tr>\n",
              "      <th>3</th>\n",
              "      <td>84348301</td>\n",
              "      <td>M</td>\n",
              "      <td>11.42</td>\n",
              "      <td>20.38</td>\n",
              "      <td>77.58</td>\n",
              "      <td>386.1</td>\n",
              "      <td>0.14250</td>\n",
              "      <td>0.28390</td>\n",
              "      <td>0.2414</td>\n",
              "      <td>0.10520</td>\n",
              "      <td>...</td>\n",
              "      <td>98.87</td>\n",
              "      <td>567.7</td>\n",
              "      <td>0.2098</td>\n",
              "      <td>0.8663</td>\n",
              "      <td>0.6869</td>\n",
              "      <td>0.2575</td>\n",
              "      <td>0.6638</td>\n",
              "      <td>0.17300</td>\n",
              "      <td>NaN</td>\n",
              "      <td>1.0</td>\n",
              "    </tr>\n",
              "    <tr>\n",
              "      <th>4</th>\n",
              "      <td>84358402</td>\n",
              "      <td>M</td>\n",
              "      <td>20.29</td>\n",
              "      <td>14.34</td>\n",
              "      <td>135.10</td>\n",
              "      <td>1297.0</td>\n",
              "      <td>0.10030</td>\n",
              "      <td>0.13280</td>\n",
              "      <td>0.1980</td>\n",
              "      <td>0.10430</td>\n",
              "      <td>...</td>\n",
              "      <td>152.20</td>\n",
              "      <td>1575.0</td>\n",
              "      <td>0.1374</td>\n",
              "      <td>0.2050</td>\n",
              "      <td>0.4000</td>\n",
              "      <td>0.1625</td>\n",
              "      <td>0.2364</td>\n",
              "      <td>0.07678</td>\n",
              "      <td>NaN</td>\n",
              "      <td>1.0</td>\n",
              "    </tr>\n",
              "  </tbody>\n",
              "</table>\n",
              "<p>5 rows × 34 columns</p>\n",
              "</div>"
            ],
            "text/plain": [
              "         id diagnosis  radius_mean  texture_mean  perimeter_mean  area_mean  \\\n",
              "0    842302         M        17.99         10.38          122.80     1001.0   \n",
              "1    842517         M        20.57         17.77          132.90     1326.0   \n",
              "2  84300903         M        19.69         21.25          130.00     1203.0   \n",
              "3  84348301         M        11.42         20.38           77.58      386.1   \n",
              "4  84358402         M        20.29         14.34          135.10     1297.0   \n",
              "\n",
              "   smoothness_mean  compactness_mean  concavity_mean  concave points_mean  \\\n",
              "0          0.11840           0.27760          0.3001              0.14710   \n",
              "1          0.08474           0.07864          0.0869              0.07017   \n",
              "2          0.10960           0.15990          0.1974              0.12790   \n",
              "3          0.14250           0.28390          0.2414              0.10520   \n",
              "4          0.10030           0.13280          0.1980              0.10430   \n",
              "\n",
              "   ...  perimeter_worst  area_worst  smoothness_worst  compactness_worst  \\\n",
              "0  ...           184.60      2019.0            0.1622             0.6656   \n",
              "1  ...           158.80      1956.0            0.1238             0.1866   \n",
              "2  ...           152.50      1709.0            0.1444             0.4245   \n",
              "3  ...            98.87       567.7            0.2098             0.8663   \n",
              "4  ...           152.20      1575.0            0.1374             0.2050   \n",
              "\n",
              "   concavity_worst  concave points_worst  symmetry_worst  \\\n",
              "0           0.7119                0.2654          0.4601   \n",
              "1           0.2416                0.1860          0.2750   \n",
              "2           0.4504                0.2430          0.3613   \n",
              "3           0.6869                0.2575          0.6638   \n",
              "4           0.4000                0.1625          0.2364   \n",
              "\n",
              "   fractal_dimension_worst  Unnamed: 32  benign_0__mal_1  \n",
              "0                  0.11890          NaN              1.0  \n",
              "1                  0.08902          NaN              1.0  \n",
              "2                  0.08758          NaN              1.0  \n",
              "3                  0.17300          NaN              1.0  \n",
              "4                  0.07678          NaN              1.0  \n",
              "\n",
              "[5 rows x 34 columns]"
            ]
          },
          "execution_count": 12,
          "metadata": {},
          "output_type": "execute_result"
        }
      ],
      "source": [
        "df.head()"
      ]
    },
    {
      "cell_type": "code",
      "execution_count": null,
      "id": "8e9d45e9",
      "metadata": {
        "id": "8e9d45e9"
      },
      "outputs": [],
      "source": [
        "df = df.drop(columns = ['id','Unnamed: 32','diagnosis'])"
      ]
    },
    {
      "cell_type": "code",
      "execution_count": null,
      "id": "7161cc3e",
      "metadata": {
        "colab": {
          "base_uri": "https://localhost:8080/",
          "height": 467
        },
        "id": "7161cc3e",
        "outputId": "743cec14-fc7c-454f-fd74-4790a7e5f05d"
      },
      "outputs": [
        {
          "data": {
            "text/plain": [
              "<AxesSubplot:xlabel='benign_0__mal_1', ylabel='count'>"
            ]
          },
          "execution_count": 14,
          "metadata": {},
          "output_type": "execute_result"
        },
        {
          "data": {
            "image/png": "[encoded data removed]",
            "text/plain": [
              "<Figure size 432x288 with 1 Axes>"
            ]
          },
          "metadata": {
            "needs_background": "light"
          },
          "output_type": "display_data"
        }
      ],
      "source": [
        "sns.countplot(x='benign_0__mal_1', data=df,hue=\"benign_0__mal_1\")"
      ]
    },
    {
      "cell_type": "code",
      "execution_count": null,
      "id": "f82bb264",
      "metadata": {
        "id": "f82bb264",
        "outputId": "0f986385-edd9-4cff-86ad-9a104fa1794c"
      },
      "outputs": [
        {
          "data": {
            "text/plain": [
              "0.0    357\n",
              "1.0    212\n",
              "Name: benign_0__mal_1, dtype: int64"
            ]
          },
          "execution_count": 15,
          "metadata": {},
          "output_type": "execute_result"
        }
      ],
      "source": [
        "df['benign_0__mal_1'].value_counts()"
      ]
    },
    {
      "cell_type": "code",
      "execution_count": null,
      "id": "713f4d19",
      "metadata": {
        "colab": {
          "base_uri": "https://localhost:8080/",
          "height": 618
        },
        "id": "713f4d19",
        "outputId": "eeaa2da2-f1a0-48e9-8ba0-e40a2c440b52"
      },
      "outputs": [
        {
          "data": {
            "text/plain": [
              "<AxesSubplot:>"
            ]
          },
          "execution_count": 16,
          "metadata": {},
          "output_type": "execute_result"
        },
        {
          "data": {
            "image/png": "[encoded data removed]",
            "text/plain": [
              "<Figure size 1080x504 with 1 Axes>"
            ]
          },
          "metadata": {
            "needs_background": "light"
          },
          "output_type": "display_data"
        }
      ],
      "source": [
        "plt.figure(figsize=(15,7))\n",
        "df.corr()['benign_0__mal_1'].sort_values().plot(kind='bar')"
      ]
    },
    {
      "cell_type": "code",
      "execution_count": null,
      "id": "0a7f69a4",
      "metadata": {
        "id": "0a7f69a4"
      },
      "outputs": [],
      "source": [
        "#Independent and Dependent Variables\n",
        "\n",
        "X = df.drop(['benign_0__mal_1'], axis=1).values\n",
        "y = df['benign_0__mal_1'].values"
      ]
    },
    {
      "cell_type": "code",
      "execution_count": null,
      "id": "9b0cf0a3",
      "metadata": {
        "id": "9b0cf0a3"
      },
      "outputs": [],
      "source": [
        "# Train Test Split\n",
        "from sklearn.model_selection import train_test_split"
      ]
    },
    {
      "cell_type": "code",
      "execution_count": null,
      "id": "0d1c7a2c",
      "metadata": {
        "id": "0d1c7a2c"
      },
      "outputs": [],
      "source": [
        "X_train, X_test, y_train, y_test = train_test_split(X,y,test_size=0.2,random_state=101)"
      ]
    },
    {
      "cell_type": "code",
      "execution_count": null,
      "id": "aE0Ep3pLZPzo",
      "metadata": {
        "colab": {
          "base_uri": "https://localhost:8080/"
        },
        "id": "aE0Ep3pLZPzo",
        "outputId": "024aaba4-0c26-4311-a1d8-696b26bac785"
      },
      "outputs": [
        {
          "data": {
            "text/plain": [
              "((455, 30), (114, 30))"
            ]
          },
          "execution_count": 20,
          "metadata": {},
          "output_type": "execute_result"
        }
      ],
      "source": [
        "X_train.shape, X_test.shape"
      ]
    },
    {
      "cell_type": "code",
      "execution_count": null,
      "id": "35320dd0",
      "metadata": {
        "id": "35320dd0"
      },
      "outputs": [],
      "source": [
        "# Scaling\n",
        "from sklearn.preprocessing import MinMaxScaler\n",
        "scaler = MinMaxScaler()\n",
        "X_train = scaler.fit_transform(X_train)\n",
        "X_test = scaler.fit_transform(X_test)"
      ]
    },
    {
      "cell_type": "code",
      "execution_count": null,
      "id": "d4ea8d41",
      "metadata": {
        "id": "d4ea8d41",
        "outputId": "fdf7b499-9f79-481e-81fe-e3e6bb883b20"
      },
      "outputs": [
        {
          "data": {
            "text/html": [
              "<div>\n",
              "<style scoped>\n",
              "    .dataframe tbody tr th:only-of-type {\n",
              "        vertical-align: middle;\n",
              "    }\n",
              "\n",
              "    .dataframe tbody tr th {\n",
              "        vertical-align: top;\n",
              "    }\n",
              "\n",
              "    .dataframe thead th {\n",
              "        text-align: right;\n",
              "    }\n",
              "</style>\n",
              "<table border=\"1\" class=\"dataframe\">\n",
              "  <thead>\n",
              "    <tr style=\"text-align: right;\">\n",
              "      <th></th>\n",
              "      <th>0</th>\n",
              "      <th>1</th>\n",
              "      <th>2</th>\n",
              "      <th>3</th>\n",
              "      <th>4</th>\n",
              "      <th>5</th>\n",
              "      <th>6</th>\n",
              "      <th>7</th>\n",
              "      <th>8</th>\n",
              "      <th>9</th>\n",
              "      <th>...</th>\n",
              "      <th>20</th>\n",
              "      <th>21</th>\n",
              "      <th>22</th>\n",
              "      <th>23</th>\n",
              "      <th>24</th>\n",
              "      <th>25</th>\n",
              "      <th>26</th>\n",
              "      <th>27</th>\n",
              "      <th>28</th>\n",
              "      <th>29</th>\n",
              "    </tr>\n",
              "  </thead>\n",
              "  <tbody>\n",
              "    <tr>\n",
              "      <th>0</th>\n",
              "      <td>0.341663</td>\n",
              "      <td>0.365911</td>\n",
              "      <td>0.335982</td>\n",
              "      <td>0.201442</td>\n",
              "      <td>0.331137</td>\n",
              "      <td>0.280412</td>\n",
              "      <td>0.118627</td>\n",
              "      <td>0.151988</td>\n",
              "      <td>0.225253</td>\n",
              "      <td>0.213353</td>\n",
              "      <td>...</td>\n",
              "      <td>0.303095</td>\n",
              "      <td>0.406183</td>\n",
              "      <td>0.307236</td>\n",
              "      <td>0.158106</td>\n",
              "      <td>0.291422</td>\n",
              "      <td>0.306206</td>\n",
              "      <td>0.200639</td>\n",
              "      <td>0.460137</td>\n",
              "      <td>0.191011</td>\n",
              "      <td>0.154401</td>\n",
              "    </tr>\n",
              "    <tr>\n",
              "      <th>1</th>\n",
              "      <td>0.246533</td>\n",
              "      <td>0.121069</td>\n",
              "      <td>0.243867</td>\n",
              "      <td>0.132471</td>\n",
              "      <td>0.487226</td>\n",
              "      <td>0.232225</td>\n",
              "      <td>0.066893</td>\n",
              "      <td>0.143241</td>\n",
              "      <td>0.414141</td>\n",
              "      <td>0.310657</td>\n",
              "      <td>...</td>\n",
              "      <td>0.192458</td>\n",
              "      <td>0.154318</td>\n",
              "      <td>0.204044</td>\n",
              "      <td>0.088478</td>\n",
              "      <td>0.472363</td>\n",
              "      <td>0.224321</td>\n",
              "      <td>0.079193</td>\n",
              "      <td>0.281340</td>\n",
              "      <td>0.375320</td>\n",
              "      <td>0.245113</td>\n",
              "    </tr>\n",
              "    <tr>\n",
              "      <th>2</th>\n",
              "      <td>0.294335</td>\n",
              "      <td>0.261075</td>\n",
              "      <td>0.278764</td>\n",
              "      <td>0.168865</td>\n",
              "      <td>0.176221</td>\n",
              "      <td>0.079320</td>\n",
              "      <td>0.101593</td>\n",
              "      <td>0.054920</td>\n",
              "      <td>0.215657</td>\n",
              "      <td>0.134583</td>\n",
              "      <td>...</td>\n",
              "      <td>0.213803</td>\n",
              "      <td>0.421109</td>\n",
              "      <td>0.188605</td>\n",
              "      <td>0.102438</td>\n",
              "      <td>0.257082</td>\n",
              "      <td>0.119830</td>\n",
              "      <td>0.183546</td>\n",
              "      <td>0.170790</td>\n",
              "      <td>0.236941</td>\n",
              "      <td>0.111111</td>\n",
              "    </tr>\n",
              "    <tr>\n",
              "      <th>3</th>\n",
              "      <td>0.385205</td>\n",
              "      <td>0.235712</td>\n",
              "      <td>0.380001</td>\n",
              "      <td>0.243097</td>\n",
              "      <td>0.326171</td>\n",
              "      <td>0.234648</td>\n",
              "      <td>0.176898</td>\n",
              "      <td>0.202734</td>\n",
              "      <td>0.269697</td>\n",
              "      <td>0.208509</td>\n",
              "      <td>...</td>\n",
              "      <td>0.350053</td>\n",
              "      <td>0.219083</td>\n",
              "      <td>0.335126</td>\n",
              "      <td>0.197675</td>\n",
              "      <td>0.514627</td>\n",
              "      <td>0.296698</td>\n",
              "      <td>0.265735</td>\n",
              "      <td>0.430241</td>\n",
              "      <td>0.364676</td>\n",
              "      <td>0.277843</td>\n",
              "    </tr>\n",
              "    <tr>\n",
              "      <th>4</th>\n",
              "      <td>0.364381</td>\n",
              "      <td>0.352384</td>\n",
              "      <td>0.352083</td>\n",
              "      <td>0.229480</td>\n",
              "      <td>0.415636</td>\n",
              "      <td>0.161401</td>\n",
              "      <td>0.173266</td>\n",
              "      <td>0.261382</td>\n",
              "      <td>0.265657</td>\n",
              "      <td>0.195029</td>\n",
              "      <td>...</td>\n",
              "      <td>0.396300</td>\n",
              "      <td>0.502665</td>\n",
              "      <td>0.363514</td>\n",
              "      <td>0.234172</td>\n",
              "      <td>0.496797</td>\n",
              "      <td>0.155048</td>\n",
              "      <td>0.232748</td>\n",
              "      <td>0.552921</td>\n",
              "      <td>0.288587</td>\n",
              "      <td>0.177883</td>\n",
              "    </tr>\n",
              "  </tbody>\n",
              "</table>\n",
              "<p>5 rows × 30 columns</p>\n",
              "</div>"
            ],
            "text/plain": [
              "         0         1         2         3         4         5         6   \\\n",
              "0  0.341663  0.365911  0.335982  0.201442  0.331137  0.280412  0.118627   \n",
              "1  0.246533  0.121069  0.243867  0.132471  0.487226  0.232225  0.066893   \n",
              "2  0.294335  0.261075  0.278764  0.168865  0.176221  0.079320  0.101593   \n",
              "3  0.385205  0.235712  0.380001  0.243097  0.326171  0.234648  0.176898   \n",
              "4  0.364381  0.352384  0.352083  0.229480  0.415636  0.161401  0.173266   \n",
              "\n",
              "         7         8         9   ...        20        21        22        23  \\\n",
              "0  0.151988  0.225253  0.213353  ...  0.303095  0.406183  0.307236  0.158106   \n",
              "1  0.143241  0.414141  0.310657  ...  0.192458  0.154318  0.204044  0.088478   \n",
              "2  0.054920  0.215657  0.134583  ...  0.213803  0.421109  0.188605  0.102438   \n",
              "3  0.202734  0.269697  0.208509  ...  0.350053  0.219083  0.335126  0.197675   \n",
              "4  0.261382  0.265657  0.195029  ...  0.396300  0.502665  0.363514  0.234172   \n",
              "\n",
              "         24        25        26        27        28        29  \n",
              "0  0.291422  0.306206  0.200639  0.460137  0.191011  0.154401  \n",
              "1  0.472363  0.224321  0.079193  0.281340  0.375320  0.245113  \n",
              "2  0.257082  0.119830  0.183546  0.170790  0.236941  0.111111  \n",
              "3  0.514627  0.296698  0.265735  0.430241  0.364676  0.277843  \n",
              "4  0.496797  0.155048  0.232748  0.552921  0.288587  0.177883  \n",
              "\n",
              "[5 rows x 30 columns]"
            ]
          },
          "execution_count": 26,
          "metadata": {},
          "output_type": "execute_result"
        }
      ],
      "source": [
        "X_train_df = pd.DataFrame(X_train)\n",
        "X_train_df.head()"
      ]
    },
    {
      "cell_type": "code",
      "execution_count": null,
      "id": "80c490ea",
      "metadata": {
        "id": "80c490ea"
      },
      "outputs": [],
      "source": [
        "import tensorflow as tf\n",
        "from tensorflow.keras.models import Sequential\n",
        "from tensorflow.keras.layers import Dense, InputLayer,Dropout"
      ]
    },
    {
      "cell_type": "code",
      "execution_count": null,
      "id": "da66d3f8",
      "metadata": {
        "id": "da66d3f8",
        "outputId": "e0631acd-e572-4028-9e84-adfebeb1d58b"
      },
      "outputs": [
        {
          "name": "stdout",
          "output_type": "stream",
          "text": [
            "Model: \"sequential\"\n",
            "_________________________________________________________________\n",
            " Layer (type)                Output Shape              Param #   \n",
            "=================================================================\n",
            " dense (Dense)               (None, 26)                806       \n",
            "                                                                 \n",
            " dense_1 (Dense)             (None, 15)                405       \n",
            "                                                                 \n",
            " dense_2 (Dense)             (None, 1)                 16        \n",
            "                                                                 \n",
            "=================================================================\n",
            "Total params: 1,227\n",
            "Trainable params: 1,227\n",
            "Non-trainable params: 0\n",
            "_________________________________________________________________\n"
          ]
        }
      ],
      "source": [
        "# Creating the model\n",
        "model1 = Sequential()\n",
        "model1.add(InputLayer(input_shape=(30,)))  # Input layer with 26 input features\n",
        "model1.add(Dense(26, activation='relu'))  # First hidden layer\n",
        "model1.add(Dense(15, activation='relu'))  # Second hidden layer\n",
        "model1.add(Dense(1, activation='sigmoid'))  # Output layer\n",
        "model1.summary()"
      ]
    },
    {
      "cell_type": "code",
      "execution_count": null,
      "id": "43fc565e",
      "metadata": {
        "id": "43fc565e"
      },
      "outputs": [],
      "source": [
        "model1.compile(loss='binary_crossentropy', optimizer='adam',metrics=['accuracy'])"
      ]
    },
    {
      "cell_type": "code",
      "execution_count": null,
      "id": "c56a3f2c",
      "metadata": {
        "id": "c56a3f2c",
        "outputId": "f773b575-3375-40df-8119-73c797ccfcce"
      },
      "outputs": [
        {
          "name": "stdout",
          "output_type": "stream",
          "text": [
            "Epoch 1/100\n",
            "15/15 [==============================] - 4s 27ms/step - loss: 0.6812 - accuracy: 0.6396 - val_loss: 0.6661 - val_accuracy: 0.6579\n",
            "Epoch 2/100\n",
            "15/15 [==============================] - 0s 11ms/step - loss: 0.6500 - accuracy: 0.7121 - val_loss: 0.6349 - val_accuracy: 0.6842\n",
            "Epoch 3/100\n",
            "15/15 [==============================] - 0s 11ms/step - loss: 0.6168 - accuracy: 0.7275 - val_loss: 0.5926 - val_accuracy: 0.7895\n",
            "Epoch 4/100\n",
            "15/15 [==============================] - 0s 8ms/step - loss: 0.5742 - accuracy: 0.7956 - val_loss: 0.5418 - val_accuracy: 0.8333\n",
            "Epoch 5/100\n",
            "15/15 [==============================] - 0s 9ms/step - loss: 0.5279 - accuracy: 0.8418 - val_loss: 0.4892 - val_accuracy: 0.9035\n",
            "Epoch 6/100\n",
            "15/15 [==============================] - 0s 9ms/step - loss: 0.4766 - accuracy: 0.8769 - val_loss: 0.4371 - val_accuracy: 0.9035\n",
            "Epoch 7/100\n",
            "15/15 [==============================] - 0s 20ms/step - loss: 0.4246 - accuracy: 0.8901 - val_loss: 0.3875 - val_accuracy: 0.9123\n",
            "Epoch 8/100\n",
            "15/15 [==============================] - 0s 8ms/step - loss: 0.3730 - accuracy: 0.9011 - val_loss: 0.3459 - val_accuracy: 0.9386\n",
            "Epoch 9/100\n",
            "15/15 [==============================] - 0s 8ms/step - loss: 0.3271 - accuracy: 0.9165 - val_loss: 0.3025 - val_accuracy: 0.9474\n",
            "Epoch 10/100\n",
            "15/15 [==============================] - 0s 14ms/step - loss: 0.2874 - accuracy: 0.9143 - val_loss: 0.2950 - val_accuracy: 0.9035\n",
            "Epoch 11/100\n",
            "15/15 [==============================] - 0s 9ms/step - loss: 0.2564 - accuracy: 0.9209 - val_loss: 0.2820 - val_accuracy: 0.8772\n",
            "Epoch 12/100\n",
            "15/15 [==============================] - 0s 8ms/step - loss: 0.2314 - accuracy: 0.9253 - val_loss: 0.2396 - val_accuracy: 0.9386\n",
            "Epoch 13/100\n",
            "15/15 [==============================] - 0s 10ms/step - loss: 0.2138 - accuracy: 0.9209 - val_loss: 0.2751 - val_accuracy: 0.8772\n",
            "Epoch 14/100\n",
            "15/15 [==============================] - 0s 9ms/step - loss: 0.1953 - accuracy: 0.9341 - val_loss: 0.2382 - val_accuracy: 0.9035\n",
            "Epoch 15/100\n",
            "15/15 [==============================] - 0s 8ms/step - loss: 0.1824 - accuracy: 0.9363 - val_loss: 0.2833 - val_accuracy: 0.8684\n",
            "Epoch 16/100\n",
            "15/15 [==============================] - 0s 8ms/step - loss: 0.1710 - accuracy: 0.9473 - val_loss: 0.2555 - val_accuracy: 0.8860\n",
            "Epoch 17/100\n",
            "15/15 [==============================] - 0s 8ms/step - loss: 0.1586 - accuracy: 0.9495 - val_loss: 0.2756 - val_accuracy: 0.8772\n",
            "Epoch 18/100\n",
            "15/15 [==============================] - 0s 8ms/step - loss: 0.1490 - accuracy: 0.9582 - val_loss: 0.2478 - val_accuracy: 0.8860\n",
            "Epoch 19/100\n",
            "15/15 [==============================] - 0s 9ms/step - loss: 0.1421 - accuracy: 0.9582 - val_loss: 0.2833 - val_accuracy: 0.8684\n",
            "Epoch 20/100\n",
            "15/15 [==============================] - 0s 8ms/step - loss: 0.1343 - accuracy: 0.9626 - val_loss: 0.2647 - val_accuracy: 0.8684\n",
            "Epoch 21/100\n",
            "15/15 [==============================] - 0s 8ms/step - loss: 0.1273 - accuracy: 0.9604 - val_loss: 0.2831 - val_accuracy: 0.8684\n",
            "Epoch 22/100\n",
            "15/15 [==============================] - 0s 8ms/step - loss: 0.1216 - accuracy: 0.9604 - val_loss: 0.2828 - val_accuracy: 0.8596\n",
            "Epoch 23/100\n",
            "15/15 [==============================] - 0s 8ms/step - loss: 0.1165 - accuracy: 0.9670 - val_loss: 0.3402 - val_accuracy: 0.8421\n",
            "Epoch 24/100\n",
            "15/15 [==============================] - 0s 8ms/step - loss: 0.1130 - accuracy: 0.9626 - val_loss: 0.2702 - val_accuracy: 0.8596\n",
            "Epoch 25/100\n",
            "15/15 [==============================] - 0s 8ms/step - loss: 0.1086 - accuracy: 0.9670 - val_loss: 0.3106 - val_accuracy: 0.8596\n",
            "Epoch 26/100\n",
            "15/15 [==============================] - 0s 9ms/step - loss: 0.1038 - accuracy: 0.9714 - val_loss: 0.2986 - val_accuracy: 0.8596\n",
            "Epoch 27/100\n",
            "15/15 [==============================] - 0s 9ms/step - loss: 0.0985 - accuracy: 0.9714 - val_loss: 0.3626 - val_accuracy: 0.8246\n",
            "Epoch 28/100\n",
            "15/15 [==============================] - 0s 9ms/step - loss: 0.0959 - accuracy: 0.9824 - val_loss: 0.3189 - val_accuracy: 0.8596\n",
            "Epoch 29/100\n",
            "15/15 [==============================] - 0s 9ms/step - loss: 0.0939 - accuracy: 0.9714 - val_loss: 0.3932 - val_accuracy: 0.8158\n",
            "Epoch 30/100\n",
            "15/15 [==============================] - 0s 9ms/step - loss: 0.0913 - accuracy: 0.9846 - val_loss: 0.3461 - val_accuracy: 0.8246\n",
            "Epoch 31/100\n",
            "15/15 [==============================] - 0s 8ms/step - loss: 0.0876 - accuracy: 0.9736 - val_loss: 0.4101 - val_accuracy: 0.8158\n",
            "Epoch 32/100\n",
            "15/15 [==============================] - 0s 9ms/step - loss: 0.0853 - accuracy: 0.9824 - val_loss: 0.3701 - val_accuracy: 0.8246\n",
            "Epoch 33/100\n",
            "15/15 [==============================] - 0s 8ms/step - loss: 0.0875 - accuracy: 0.9758 - val_loss: 0.3370 - val_accuracy: 0.8333\n",
            "Epoch 34/100\n",
            "15/15 [==============================] - 0s 8ms/step - loss: 0.0818 - accuracy: 0.9736 - val_loss: 0.4279 - val_accuracy: 0.8158\n",
            "Epoch 35/100\n",
            "15/15 [==============================] - 0s 8ms/step - loss: 0.0788 - accuracy: 0.9824 - val_loss: 0.4067 - val_accuracy: 0.8246\n",
            "Epoch 36/100\n",
            "15/15 [==============================] - 0s 9ms/step - loss: 0.0786 - accuracy: 0.9824 - val_loss: 0.4031 - val_accuracy: 0.8246\n",
            "Epoch 37/100\n",
            "15/15 [==============================] - 0s 7ms/step - loss: 0.0789 - accuracy: 0.9758 - val_loss: 0.4773 - val_accuracy: 0.8158\n",
            "Epoch 38/100\n",
            "15/15 [==============================] - 0s 8ms/step - loss: 0.0784 - accuracy: 0.9780 - val_loss: 0.3759 - val_accuracy: 0.8246\n",
            "Epoch 39/100\n",
            "15/15 [==============================] - 0s 8ms/step - loss: 0.0798 - accuracy: 0.9736 - val_loss: 0.4741 - val_accuracy: 0.8158\n",
            "Epoch 40/100\n",
            "15/15 [==============================] - 0s 8ms/step - loss: 0.0712 - accuracy: 0.9824 - val_loss: 0.4168 - val_accuracy: 0.8246\n",
            "Epoch 41/100\n",
            "15/15 [==============================] - 0s 8ms/step - loss: 0.0716 - accuracy: 0.9736 - val_loss: 0.5122 - val_accuracy: 0.8070\n",
            "Epoch 42/100\n",
            "15/15 [==============================] - 0s 8ms/step - loss: 0.0691 - accuracy: 0.9824 - val_loss: 0.4594 - val_accuracy: 0.8158\n",
            "Epoch 43/100\n",
            "15/15 [==============================] - 0s 9ms/step - loss: 0.0681 - accuracy: 0.9846 - val_loss: 0.5245 - val_accuracy: 0.8070\n",
            "Epoch 44/100\n",
            "15/15 [==============================] - 0s 9ms/step - loss: 0.0684 - accuracy: 0.9868 - val_loss: 0.4856 - val_accuracy: 0.8070\n",
            "Epoch 45/100\n",
            "15/15 [==============================] - 0s 7ms/step - loss: 0.0684 - accuracy: 0.9846 - val_loss: 0.4710 - val_accuracy: 0.8158\n",
            "Epoch 46/100\n",
            "15/15 [==============================] - 0s 8ms/step - loss: 0.0650 - accuracy: 0.9780 - val_loss: 0.5350 - val_accuracy: 0.8070\n",
            "Epoch 47/100\n",
            "15/15 [==============================] - 0s 16ms/step - loss: 0.0671 - accuracy: 0.9780 - val_loss: 0.4657 - val_accuracy: 0.8158\n",
            "Epoch 48/100\n",
            "15/15 [==============================] - 0s 8ms/step - loss: 0.0644 - accuracy: 0.9780 - val_loss: 0.6026 - val_accuracy: 0.7807\n",
            "Epoch 49/100\n",
            "15/15 [==============================] - 0s 8ms/step - loss: 0.0627 - accuracy: 0.9846 - val_loss: 0.4901 - val_accuracy: 0.8070\n",
            "Epoch 50/100\n",
            "15/15 [==============================] - 0s 9ms/step - loss: 0.0634 - accuracy: 0.9824 - val_loss: 0.5248 - val_accuracy: 0.8070\n",
            "Epoch 51/100\n",
            "15/15 [==============================] - 1s 71ms/step - loss: 0.0634 - accuracy: 0.9824 - val_loss: 0.5532 - val_accuracy: 0.8070\n",
            "Epoch 52/100\n",
            "15/15 [==============================] - 0s 9ms/step - loss: 0.0610 - accuracy: 0.9824 - val_loss: 0.5879 - val_accuracy: 0.7982\n",
            "Epoch 53/100\n",
            "15/15 [==============================] - 0s 9ms/step - loss: 0.0653 - accuracy: 0.9758 - val_loss: 0.5895 - val_accuracy: 0.7982\n",
            "Epoch 54/100\n",
            "15/15 [==============================] - 0s 9ms/step - loss: 0.0605 - accuracy: 0.9824 - val_loss: 0.5217 - val_accuracy: 0.8070\n",
            "Epoch 55/100\n",
            "15/15 [==============================] - 0s 8ms/step - loss: 0.0640 - accuracy: 0.9758 - val_loss: 0.6394 - val_accuracy: 0.7719\n",
            "Epoch 56/100\n",
            "15/15 [==============================] - 0s 8ms/step - loss: 0.0602 - accuracy: 0.9824 - val_loss: 0.5911 - val_accuracy: 0.7982\n",
            "Epoch 57/100\n",
            "15/15 [==============================] - 0s 8ms/step - loss: 0.0584 - accuracy: 0.9824 - val_loss: 0.6248 - val_accuracy: 0.7982\n",
            "Epoch 58/100\n",
            "15/15 [==============================] - 0s 8ms/step - loss: 0.0604 - accuracy: 0.9802 - val_loss: 0.6176 - val_accuracy: 0.7982\n"
          ]
        },
        {
          "name": "stdout",
          "output_type": "stream",
          "text": [
            "Epoch 59/100\n",
            "15/15 [==============================] - 0s 7ms/step - loss: 0.0574 - accuracy: 0.9824 - val_loss: 0.6414 - val_accuracy: 0.7982\n",
            "Epoch 60/100\n",
            "15/15 [==============================] - 0s 7ms/step - loss: 0.0574 - accuracy: 0.9846 - val_loss: 0.5877 - val_accuracy: 0.8070\n",
            "Epoch 61/100\n",
            "15/15 [==============================] - 0s 9ms/step - loss: 0.0583 - accuracy: 0.9824 - val_loss: 0.6835 - val_accuracy: 0.7719\n",
            "Epoch 62/100\n",
            "15/15 [==============================] - 0s 8ms/step - loss: 0.0566 - accuracy: 0.9846 - val_loss: 0.6137 - val_accuracy: 0.7982\n",
            "Epoch 63/100\n",
            "15/15 [==============================] - 0s 8ms/step - loss: 0.0568 - accuracy: 0.9802 - val_loss: 0.6529 - val_accuracy: 0.7895\n",
            "Epoch 64/100\n",
            "15/15 [==============================] - 0s 8ms/step - loss: 0.0547 - accuracy: 0.9846 - val_loss: 0.6055 - val_accuracy: 0.7982\n",
            "Epoch 65/100\n",
            "15/15 [==============================] - 0s 7ms/step - loss: 0.0554 - accuracy: 0.9846 - val_loss: 0.6906 - val_accuracy: 0.7719\n",
            "Epoch 66/100\n",
            "15/15 [==============================] - 0s 7ms/step - loss: 0.0544 - accuracy: 0.9846 - val_loss: 0.6361 - val_accuracy: 0.7982\n",
            "Epoch 67/100\n",
            "15/15 [==============================] - 0s 7ms/step - loss: 0.0560 - accuracy: 0.9780 - val_loss: 0.7301 - val_accuracy: 0.7719\n",
            "Epoch 68/100\n",
            "15/15 [==============================] - 0s 7ms/step - loss: 0.0556 - accuracy: 0.9802 - val_loss: 0.6995 - val_accuracy: 0.7719\n",
            "Epoch 69/100\n",
            "15/15 [==============================] - 0s 12ms/step - loss: 0.0527 - accuracy: 0.9846 - val_loss: 0.6727 - val_accuracy: 0.7895\n",
            "Epoch 70/100\n",
            "15/15 [==============================] - 0s 7ms/step - loss: 0.0573 - accuracy: 0.9802 - val_loss: 0.7366 - val_accuracy: 0.7719\n",
            "Epoch 71/100\n",
            "15/15 [==============================] - 0s 7ms/step - loss: 0.0535 - accuracy: 0.9868 - val_loss: 0.6860 - val_accuracy: 0.7807\n",
            "Epoch 72/100\n",
            "15/15 [==============================] - 0s 8ms/step - loss: 0.0519 - accuracy: 0.9868 - val_loss: 0.7365 - val_accuracy: 0.7719\n",
            "Epoch 73/100\n",
            "15/15 [==============================] - 0s 7ms/step - loss: 0.0518 - accuracy: 0.9846 - val_loss: 0.6788 - val_accuracy: 0.7807\n",
            "Epoch 74/100\n",
            "15/15 [==============================] - 0s 8ms/step - loss: 0.0531 - accuracy: 0.9846 - val_loss: 0.7458 - val_accuracy: 0.7719\n",
            "Epoch 75/100\n",
            "15/15 [==============================] - 0s 8ms/step - loss: 0.0529 - accuracy: 0.9846 - val_loss: 0.6983 - val_accuracy: 0.7807\n",
            "Epoch 76/100\n",
            "15/15 [==============================] - 0s 7ms/step - loss: 0.0505 - accuracy: 0.9868 - val_loss: 0.8024 - val_accuracy: 0.7719\n",
            "Epoch 77/100\n",
            "15/15 [==============================] - 0s 7ms/step - loss: 0.0511 - accuracy: 0.9868 - val_loss: 0.6936 - val_accuracy: 0.7895\n",
            "Epoch 78/100\n",
            "15/15 [==============================] - 0s 8ms/step - loss: 0.0516 - accuracy: 0.9868 - val_loss: 0.8173 - val_accuracy: 0.7719\n",
            "Epoch 79/100\n",
            "15/15 [==============================] - 0s 8ms/step - loss: 0.0518 - accuracy: 0.9802 - val_loss: 0.7929 - val_accuracy: 0.7719\n",
            "Epoch 80/100\n",
            "15/15 [==============================] - 0s 7ms/step - loss: 0.0504 - accuracy: 0.9846 - val_loss: 0.8029 - val_accuracy: 0.7719\n",
            "Epoch 81/100\n",
            "15/15 [==============================] - 0s 10ms/step - loss: 0.0491 - accuracy: 0.9846 - val_loss: 0.7541 - val_accuracy: 0.7719\n",
            "Epoch 82/100\n",
            "15/15 [==============================] - 0s 8ms/step - loss: 0.0498 - accuracy: 0.9868 - val_loss: 0.7938 - val_accuracy: 0.7719\n",
            "Epoch 83/100\n",
            "15/15 [==============================] - 0s 8ms/step - loss: 0.0495 - accuracy: 0.9868 - val_loss: 0.7934 - val_accuracy: 0.7719\n",
            "Epoch 84/100\n",
            "15/15 [==============================] - 0s 10ms/step - loss: 0.0490 - accuracy: 0.9868 - val_loss: 0.8266 - val_accuracy: 0.7719\n",
            "Epoch 85/100\n",
            "15/15 [==============================] - 0s 9ms/step - loss: 0.0493 - accuracy: 0.9868 - val_loss: 0.8488 - val_accuracy: 0.7719\n",
            "Epoch 86/100\n",
            "15/15 [==============================] - 0s 12ms/step - loss: 0.0526 - accuracy: 0.9846 - val_loss: 0.7767 - val_accuracy: 0.7807\n",
            "Epoch 87/100\n",
            "15/15 [==============================] - 0s 8ms/step - loss: 0.0505 - accuracy: 0.9802 - val_loss: 0.8373 - val_accuracy: 0.7719\n",
            "Epoch 88/100\n",
            "15/15 [==============================] - 0s 9ms/step - loss: 0.0489 - accuracy: 0.9868 - val_loss: 0.8081 - val_accuracy: 0.7719\n",
            "Epoch 89/100\n",
            "15/15 [==============================] - 0s 8ms/step - loss: 0.0495 - accuracy: 0.9824 - val_loss: 0.9101 - val_accuracy: 0.7632\n",
            "Epoch 90/100\n",
            "15/15 [==============================] - 0s 7ms/step - loss: 0.0492 - accuracy: 0.9868 - val_loss: 0.7993 - val_accuracy: 0.7719\n",
            "Epoch 91/100\n",
            "15/15 [==============================] - 0s 8ms/step - loss: 0.0561 - accuracy: 0.9780 - val_loss: 0.8609 - val_accuracy: 0.7719\n",
            "Epoch 92/100\n",
            "15/15 [==============================] - 0s 7ms/step - loss: 0.0510 - accuracy: 0.9846 - val_loss: 0.8229 - val_accuracy: 0.7719\n",
            "Epoch 93/100\n",
            "15/15 [==============================] - 0s 7ms/step - loss: 0.0491 - accuracy: 0.9846 - val_loss: 0.8625 - val_accuracy: 0.7719\n",
            "Epoch 94/100\n",
            "15/15 [==============================] - 0s 7ms/step - loss: 0.0484 - accuracy: 0.9868 - val_loss: 0.8664 - val_accuracy: 0.7719\n",
            "Epoch 95/100\n",
            "15/15 [==============================] - 0s 7ms/step - loss: 0.0477 - accuracy: 0.9890 - val_loss: 0.9224 - val_accuracy: 0.7632\n",
            "Epoch 96/100\n",
            "15/15 [==============================] - 0s 8ms/step - loss: 0.0475 - accuracy: 0.9824 - val_loss: 0.8901 - val_accuracy: 0.7632\n",
            "Epoch 97/100\n",
            "15/15 [==============================] - 0s 8ms/step - loss: 0.0472 - accuracy: 0.9868 - val_loss: 0.9558 - val_accuracy: 0.7632\n",
            "Epoch 98/100\n",
            "15/15 [==============================] - 0s 7ms/step - loss: 0.0468 - accuracy: 0.9846 - val_loss: 0.8780 - val_accuracy: 0.7719\n",
            "Epoch 99/100\n",
            "15/15 [==============================] - 0s 8ms/step - loss: 0.0462 - accuracy: 0.9868 - val_loss: 0.9072 - val_accuracy: 0.7632\n",
            "Epoch 100/100\n",
            "15/15 [==============================] - 0s 7ms/step - loss: 0.0456 - accuracy: 0.9868 - val_loss: 0.8989 - val_accuracy: 0.7632\n"
          ]
        },
        {
          "data": {
            "text/plain": [
              "<keras.callbacks.History at 0x1ea07afac40>"
            ]
          },
          "execution_count": 30,
          "metadata": {},
          "output_type": "execute_result"
        }
      ],
      "source": [
        "model1.fit(x=X_train, y=y_train, epochs=100, validation_data=(X_test,y_test))"
      ]
    },
    {
      "cell_type": "code",
      "execution_count": null,
      "id": "bbd8f150",
      "metadata": {
        "id": "bbd8f150"
      },
      "outputs": [],
      "source": [
        "model_loss = pd.DataFrame(model1.history.history)"
      ]
    },
    {
      "cell_type": "code",
      "execution_count": null,
      "id": "ff97a4ee",
      "metadata": {
        "id": "ff97a4ee",
        "outputId": "70c76b6d-4362-4969-bbab-a939bb87d09e"
      },
      "outputs": [
        {
          "data": {
            "text/plain": [
              "<AxesSubplot:>"
            ]
          },
          "execution_count": 32,
          "metadata": {},
          "output_type": "execute_result"
        },
        {
          "data": {
            "image/png": "[encoded data removed]",
            "text/plain": [
              "<Figure size 432x288 with 1 Axes>"
            ]
          },
          "metadata": {
            "needs_background": "light"
          },
          "output_type": "display_data"
        }
      ],
      "source": [
        "model_loss.plot()"
      ]
    },
    {
      "cell_type": "code",
      "execution_count": null,
      "id": "de77200e",
      "metadata": {
        "id": "de77200e"
      },
      "outputs": [],
      "source": [
        "# Early Stopping\n",
        "\n",
        "model = Sequential()\n",
        "model.add(InputLayer(input_shape=(30,)))  # Input layer with 26 input features\n",
        "model.add(Dense(units=26,activation='relu'))\n",
        "model.add(Dense(units=15,activation='relu'))\n",
        "model.add(Dense(units=1,activation='sigmoid'))\n",
        "model.compile(loss='binary_crossentropy', optimizer='adam',metrics=['accuracy'])"
      ]
    },
    {
      "cell_type": "code",
      "execution_count": null,
      "id": "aae16d1a",
      "metadata": {
        "id": "aae16d1a"
      },
      "outputs": [],
      "source": [
        "from tensorflow.keras.callbacks import EarlyStopping"
      ]
    },
    {
      "cell_type": "code",
      "execution_count": null,
      "id": "edc39652",
      "metadata": {
        "id": "edc39652"
      },
      "outputs": [],
      "source": [
        "early_stop = EarlyStopping(monitor='val_loss', mode='min', patience=50)"
      ]
    },
    {
      "cell_type": "code",
      "execution_count": null,
      "id": "ff9f7b53",
      "metadata": {
        "colab": {
          "base_uri": "https://localhost:8080/"
        },
        "id": "ff9f7b53",
        "outputId": "50bad5ec-794b-470f-e6be-412dd061f2cf"
      },
      "outputs": [
        {
          "name": "stdout",
          "output_type": "stream",
          "text": [
            "Epoch 1/100\n",
            "15/15 [==============================] - 1s 17ms/step - loss: 0.6958 - accuracy: 0.6022 - val_loss: 0.6786 - val_accuracy: 0.6228\n",
            "Epoch 2/100\n",
            "15/15 [==============================] - 0s 9ms/step - loss: 0.6507 - accuracy: 0.7626 - val_loss: 0.6242 - val_accuracy: 0.7719\n",
            "Epoch 3/100\n",
            "15/15 [==============================] - 0s 8ms/step - loss: 0.5963 - accuracy: 0.8462 - val_loss: 0.5720 - val_accuracy: 0.7632\n",
            "Epoch 4/100\n",
            "15/15 [==============================] - 0s 8ms/step - loss: 0.5419 - accuracy: 0.8571 - val_loss: 0.5231 - val_accuracy: 0.7807\n",
            "Epoch 5/100\n",
            "15/15 [==============================] - 0s 8ms/step - loss: 0.4955 - accuracy: 0.8571 - val_loss: 0.4723 - val_accuracy: 0.8684\n",
            "Epoch 6/100\n",
            "15/15 [==============================] - 0s 9ms/step - loss: 0.4519 - accuracy: 0.8681 - val_loss: 0.4276 - val_accuracy: 0.8684\n",
            "Epoch 7/100\n",
            "15/15 [==============================] - 0s 8ms/step - loss: 0.4115 - accuracy: 0.8747 - val_loss: 0.3841 - val_accuracy: 0.8860\n",
            "Epoch 8/100\n",
            "15/15 [==============================] - 0s 9ms/step - loss: 0.3720 - accuracy: 0.8769 - val_loss: 0.3518 - val_accuracy: 0.8947\n",
            "Epoch 9/100\n",
            "15/15 [==============================] - 0s 8ms/step - loss: 0.3370 - accuracy: 0.8901 - val_loss: 0.3115 - val_accuracy: 0.8947\n",
            "Epoch 10/100\n",
            "15/15 [==============================] - 0s 8ms/step - loss: 0.3036 - accuracy: 0.9011 - val_loss: 0.2918 - val_accuracy: 0.9211\n",
            "Epoch 11/100\n",
            "15/15 [==============================] - 0s 8ms/step - loss: 0.2763 - accuracy: 0.9077 - val_loss: 0.2649 - val_accuracy: 0.9211\n",
            "Epoch 12/100\n",
            "15/15 [==============================] - 0s 9ms/step - loss: 0.2536 - accuracy: 0.9099 - val_loss: 0.2458 - val_accuracy: 0.9386\n",
            "Epoch 13/100\n",
            "15/15 [==============================] - 0s 13ms/step - loss: 0.2343 - accuracy: 0.9165 - val_loss: 0.2456 - val_accuracy: 0.9211\n",
            "Epoch 14/100\n",
            "15/15 [==============================] - 0s 8ms/step - loss: 0.2205 - accuracy: 0.9143 - val_loss: 0.2169 - val_accuracy: 0.9298\n",
            "Epoch 15/100\n",
            "15/15 [==============================] - 0s 8ms/step - loss: 0.2043 - accuracy: 0.9275 - val_loss: 0.2233 - val_accuracy: 0.9298\n",
            "Epoch 16/100\n",
            "15/15 [==============================] - 0s 8ms/step - loss: 0.1917 - accuracy: 0.9253 - val_loss: 0.2289 - val_accuracy: 0.9386\n",
            "Epoch 17/100\n",
            "15/15 [==============================] - 0s 8ms/step - loss: 0.1864 - accuracy: 0.9429 - val_loss: 0.2020 - val_accuracy: 0.9298\n",
            "Epoch 18/100\n",
            "15/15 [==============================] - 0s 8ms/step - loss: 0.1707 - accuracy: 0.9319 - val_loss: 0.2310 - val_accuracy: 0.9298\n",
            "Epoch 19/100\n",
            "15/15 [==============================] - 0s 9ms/step - loss: 0.1607 - accuracy: 0.9385 - val_loss: 0.2090 - val_accuracy: 0.9298\n",
            "Epoch 20/100\n",
            "15/15 [==============================] - 0s 9ms/step - loss: 0.1529 - accuracy: 0.9407 - val_loss: 0.2351 - val_accuracy: 0.9035\n",
            "Epoch 21/100\n",
            "15/15 [==============================] - 0s 8ms/step - loss: 0.1465 - accuracy: 0.9560 - val_loss: 0.2041 - val_accuracy: 0.9298\n",
            "Epoch 22/100\n",
            "15/15 [==============================] - 0s 8ms/step - loss: 0.1428 - accuracy: 0.9429 - val_loss: 0.2489 - val_accuracy: 0.8947\n",
            "Epoch 23/100\n",
            "15/15 [==============================] - 0s 10ms/step - loss: 0.1312 - accuracy: 0.9626 - val_loss: 0.1951 - val_accuracy: 0.9298\n",
            "Epoch 24/100\n",
            "15/15 [==============================] - 0s 14ms/step - loss: 0.1267 - accuracy: 0.9670 - val_loss: 0.2496 - val_accuracy: 0.8772\n",
            "Epoch 25/100\n",
            "15/15 [==============================] - 0s 8ms/step - loss: 0.1214 - accuracy: 0.9670 - val_loss: 0.2317 - val_accuracy: 0.8772\n",
            "Epoch 26/100\n",
            "15/15 [==============================] - 0s 7ms/step - loss: 0.1164 - accuracy: 0.9670 - val_loss: 0.2579 - val_accuracy: 0.8684\n",
            "Epoch 27/100\n",
            "15/15 [==============================] - 0s 13ms/step - loss: 0.1128 - accuracy: 0.9648 - val_loss: 0.2628 - val_accuracy: 0.8684\n",
            "Epoch 28/100\n",
            "15/15 [==============================] - 0s 9ms/step - loss: 0.1121 - accuracy: 0.9736 - val_loss: 0.2510 - val_accuracy: 0.8684\n",
            "Epoch 29/100\n",
            "15/15 [==============================] - 0s 10ms/step - loss: 0.1040 - accuracy: 0.9692 - val_loss: 0.2614 - val_accuracy: 0.8684\n",
            "Epoch 30/100\n",
            "15/15 [==============================] - 0s 10ms/step - loss: 0.1003 - accuracy: 0.9736 - val_loss: 0.2730 - val_accuracy: 0.8684\n",
            "Epoch 31/100\n",
            "15/15 [==============================] - 0s 7ms/step - loss: 0.0975 - accuracy: 0.9736 - val_loss: 0.3046 - val_accuracy: 0.8596\n",
            "Epoch 32/100\n",
            "15/15 [==============================] - 0s 10ms/step - loss: 0.1026 - accuracy: 0.9692 - val_loss: 0.2887 - val_accuracy: 0.8684\n",
            "Epoch 33/100\n",
            "15/15 [==============================] - 0s 14ms/step - loss: 0.0921 - accuracy: 0.9758 - val_loss: 0.2825 - val_accuracy: 0.8684\n",
            "Epoch 34/100\n",
            "15/15 [==============================] - 0s 9ms/step - loss: 0.0901 - accuracy: 0.9736 - val_loss: 0.3260 - val_accuracy: 0.8596\n",
            "Epoch 35/100\n",
            "15/15 [==============================] - 0s 8ms/step - loss: 0.0883 - accuracy: 0.9758 - val_loss: 0.3066 - val_accuracy: 0.8596\n",
            "Epoch 36/100\n",
            "15/15 [==============================] - 0s 8ms/step - loss: 0.0864 - accuracy: 0.9780 - val_loss: 0.3439 - val_accuracy: 0.8509\n",
            "Epoch 37/100\n",
            "15/15 [==============================] - 0s 7ms/step - loss: 0.0862 - accuracy: 0.9780 - val_loss: 0.3463 - val_accuracy: 0.8509\n",
            "Epoch 38/100\n",
            "15/15 [==============================] - 0s 7ms/step - loss: 0.0831 - accuracy: 0.9758 - val_loss: 0.3539 - val_accuracy: 0.8509\n",
            "Epoch 39/100\n",
            "15/15 [==============================] - 0s 7ms/step - loss: 0.0860 - accuracy: 0.9736 - val_loss: 0.3943 - val_accuracy: 0.8333\n",
            "Epoch 40/100\n",
            "15/15 [==============================] - 0s 7ms/step - loss: 0.0817 - accuracy: 0.9758 - val_loss: 0.3739 - val_accuracy: 0.8509\n",
            "Epoch 41/100\n",
            "15/15 [==============================] - 0s 7ms/step - loss: 0.0789 - accuracy: 0.9802 - val_loss: 0.3891 - val_accuracy: 0.8421\n",
            "Epoch 42/100\n",
            "15/15 [==============================] - 0s 8ms/step - loss: 0.0759 - accuracy: 0.9824 - val_loss: 0.3637 - val_accuracy: 0.8509\n",
            "Epoch 43/100\n",
            "15/15 [==============================] - 0s 12ms/step - loss: 0.0757 - accuracy: 0.9736 - val_loss: 0.3757 - val_accuracy: 0.8421\n",
            "Epoch 44/100\n",
            "15/15 [==============================] - 0s 11ms/step - loss: 0.0736 - accuracy: 0.9780 - val_loss: 0.3938 - val_accuracy: 0.8333\n",
            "Epoch 45/100\n",
            "15/15 [==============================] - 0s 8ms/step - loss: 0.0725 - accuracy: 0.9736 - val_loss: 0.4295 - val_accuracy: 0.8333\n",
            "Epoch 46/100\n",
            "15/15 [==============================] - 0s 7ms/step - loss: 0.0719 - accuracy: 0.9824 - val_loss: 0.4029 - val_accuracy: 0.8333\n",
            "Epoch 47/100\n",
            "15/15 [==============================] - 0s 7ms/step - loss: 0.0717 - accuracy: 0.9780 - val_loss: 0.4272 - val_accuracy: 0.8333\n",
            "Epoch 48/100\n",
            "15/15 [==============================] - 0s 7ms/step - loss: 0.0705 - accuracy: 0.9802 - val_loss: 0.4050 - val_accuracy: 0.8333\n",
            "Epoch 49/100\n",
            "15/15 [==============================] - 0s 12ms/step - loss: 0.0687 - accuracy: 0.9780 - val_loss: 0.4411 - val_accuracy: 0.8333\n",
            "Epoch 50/100\n",
            "15/15 [==============================] - 0s 9ms/step - loss: 0.0672 - accuracy: 0.9802 - val_loss: 0.4486 - val_accuracy: 0.8333\n",
            "Epoch 51/100\n",
            "15/15 [==============================] - 0s 7ms/step - loss: 0.0665 - accuracy: 0.9780 - val_loss: 0.4402 - val_accuracy: 0.8333\n",
            "Epoch 52/100\n",
            "15/15 [==============================] - 0s 7ms/step - loss: 0.0661 - accuracy: 0.9780 - val_loss: 0.5036 - val_accuracy: 0.8246\n",
            "Epoch 53/100\n",
            "15/15 [==============================] - 0s 7ms/step - loss: 0.0683 - accuracy: 0.9824 - val_loss: 0.4565 - val_accuracy: 0.8333\n",
            "Epoch 54/100\n",
            "15/15 [==============================] - 0s 8ms/step - loss: 0.0653 - accuracy: 0.9780 - val_loss: 0.5171 - val_accuracy: 0.8158\n",
            "Epoch 55/100\n",
            "15/15 [==============================] - 0s 12ms/step - loss: 0.0639 - accuracy: 0.9824 - val_loss: 0.4807 - val_accuracy: 0.8246\n",
            "Epoch 56/100\n",
            "15/15 [==============================] - 0s 9ms/step - loss: 0.0660 - accuracy: 0.9780 - val_loss: 0.5206 - val_accuracy: 0.8158\n",
            "Epoch 57/100\n",
            "15/15 [==============================] - 0s 12ms/step - loss: 0.0626 - accuracy: 0.9824 - val_loss: 0.5288 - val_accuracy: 0.8158\n",
            "Epoch 58/100\n",
            "15/15 [==============================] - 0s 8ms/step - loss: 0.0616 - accuracy: 0.9824 - val_loss: 0.5163 - val_accuracy: 0.8246\n",
            "Epoch 59/100\n",
            "15/15 [==============================] - 0s 10ms/step - loss: 0.0614 - accuracy: 0.9846 - val_loss: 0.5299 - val_accuracy: 0.8158\n",
            "Epoch 60/100\n",
            "15/15 [==============================] - 0s 10ms/step - loss: 0.0642 - accuracy: 0.9802 - val_loss: 0.5650 - val_accuracy: 0.8070\n",
            "Epoch 61/100\n",
            "15/15 [==============================] - 0s 10ms/step - loss: 0.0602 - accuracy: 0.9824 - val_loss: 0.5204 - val_accuracy: 0.8246\n",
            "Epoch 62/100\n",
            "15/15 [==============================] - 0s 9ms/step - loss: 0.0611 - accuracy: 0.9802 - val_loss: 0.5597 - val_accuracy: 0.8158\n",
            "Epoch 63/100\n",
            "15/15 [==============================] - 0s 10ms/step - loss: 0.0650 - accuracy: 0.9758 - val_loss: 0.5897 - val_accuracy: 0.8070\n",
            "Epoch 64/100\n",
            "15/15 [==============================] - 0s 9ms/step - loss: 0.0594 - accuracy: 0.9824 - val_loss: 0.5732 - val_accuracy: 0.8070\n",
            "Epoch 65/100\n",
            "15/15 [==============================] - 0s 12ms/step - loss: 0.0588 - accuracy: 0.9824 - val_loss: 0.5959 - val_accuracy: 0.8070\n",
            "Epoch 66/100\n",
            "15/15 [==============================] - 0s 8ms/step - loss: 0.0574 - accuracy: 0.9824 - val_loss: 0.5624 - val_accuracy: 0.8158\n",
            "Epoch 67/100\n",
            "15/15 [==============================] - 0s 7ms/step - loss: 0.0576 - accuracy: 0.9824 - val_loss: 0.6231 - val_accuracy: 0.8070\n",
            "Epoch 68/100\n",
            "15/15 [==============================] - 0s 10ms/step - loss: 0.0575 - accuracy: 0.9780 - val_loss: 0.6241 - val_accuracy: 0.8070\n",
            "Epoch 69/100\n",
            "15/15 [==============================] - 0s 8ms/step - loss: 0.0566 - accuracy: 0.9824 - val_loss: 0.5736 - val_accuracy: 0.8158\n",
            "Epoch 70/100\n",
            "15/15 [==============================] - 0s 11ms/step - loss: 0.0606 - accuracy: 0.9824 - val_loss: 0.6906 - val_accuracy: 0.7807\n",
            "Epoch 71/100\n",
            "15/15 [==============================] - 0s 9ms/step - loss: 0.0607 - accuracy: 0.9802 - val_loss: 0.5504 - val_accuracy: 0.8246\n",
            "Epoch 72/100\n",
            "15/15 [==============================] - 0s 9ms/step - loss: 0.0566 - accuracy: 0.9824 - val_loss: 0.6797 - val_accuracy: 0.7807\n",
            "Epoch 73/100\n",
            "15/15 [==============================] - 0s 11ms/step - loss: 0.0557 - accuracy: 0.9824 - val_loss: 0.6501 - val_accuracy: 0.8070\n"
          ]
        },
        {
          "data": {
            "text/plain": [
              "<keras.callbacks.History at 0x1ea24217f70>"
            ]
          },
          "execution_count": 36,
          "metadata": {},
          "output_type": "execute_result"
        }
      ],
      "source": [
        "model.fit(x=X_train,\n",
        "          y=y_train,\n",
        "          epochs=100,\n",
        "          validation_data=(X_test, y_test),\n",
        "          callbacks=[early_stop]\n",
        "          )#"
      ]
    },
    {
      "cell_type": "code",
      "execution_count": null,
      "id": "557e21e1",
      "metadata": {
        "id": "557e21e1"
      },
      "outputs": [],
      "source": [
        "early_stop = EarlyStopping(monitor='val_loss', mode='min', patience=10)"
      ]
    },
    {
      "cell_type": "code",
      "execution_count": null,
      "id": "27199f11",
      "metadata": {
        "id": "27199f11",
        "outputId": "89df9140-22cc-47b6-aa4b-b9c6492a515b"
      },
      "outputs": [
        {
          "name": "stdout",
          "output_type": "stream",
          "text": [
            "Epoch 1/100\n",
            "15/15 [==============================] - 0s 12ms/step - loss: 0.0598 - accuracy: 0.9802 - val_loss: 0.6092 - val_accuracy: 0.8070\n",
            "Epoch 2/100\n",
            "15/15 [==============================] - 0s 9ms/step - loss: 0.0571 - accuracy: 0.9802 - val_loss: 0.7372 - val_accuracy: 0.7807\n",
            "Epoch 3/100\n",
            "15/15 [==============================] - 0s 8ms/step - loss: 0.0557 - accuracy: 0.9846 - val_loss: 0.6479 - val_accuracy: 0.8070\n",
            "Epoch 4/100\n",
            "15/15 [==============================] - 0s 8ms/step - loss: 0.0555 - accuracy: 0.9802 - val_loss: 0.6870 - val_accuracy: 0.7807\n",
            "Epoch 5/100\n",
            "15/15 [==============================] - 0s 8ms/step - loss: 0.0582 - accuracy: 0.9758 - val_loss: 0.6325 - val_accuracy: 0.8070\n",
            "Epoch 6/100\n",
            "15/15 [==============================] - 0s 8ms/step - loss: 0.0540 - accuracy: 0.9846 - val_loss: 0.7126 - val_accuracy: 0.7807\n",
            "Epoch 7/100\n",
            "15/15 [==============================] - 0s 10ms/step - loss: 0.0699 - accuracy: 0.9736 - val_loss: 0.6210 - val_accuracy: 0.8070\n",
            "Epoch 8/100\n",
            "15/15 [==============================] - 0s 9ms/step - loss: 0.0572 - accuracy: 0.9736 - val_loss: 0.7075 - val_accuracy: 0.7807\n",
            "Epoch 9/100\n",
            "15/15 [==============================] - 0s 9ms/step - loss: 0.0535 - accuracy: 0.9824 - val_loss: 0.7434 - val_accuracy: 0.7807\n",
            "Epoch 10/100\n",
            "15/15 [==============================] - 0s 8ms/step - loss: 0.0551 - accuracy: 0.9802 - val_loss: 0.6507 - val_accuracy: 0.8070\n",
            "Epoch 11/100\n",
            "15/15 [==============================] - 0s 8ms/step - loss: 0.0584 - accuracy: 0.9802 - val_loss: 0.7513 - val_accuracy: 0.7719\n"
          ]
        },
        {
          "data": {
            "text/plain": [
              "<keras.callbacks.History at 0x1ea2c268d60>"
            ]
          },
          "execution_count": 38,
          "metadata": {},
          "output_type": "execute_result"
        }
      ],
      "source": [
        "model.fit(x=X_train,\n",
        "          y=y_train,\n",
        "          epochs=100,\n",
        "          validation_data=(X_test, y_test),\n",
        "          callbacks=[early_stop]\n",
        "          )#"
      ]
    },
    {
      "cell_type": "code",
      "execution_count": null,
      "id": "c03d1f73",
      "metadata": {
        "colab": {
          "base_uri": "https://localhost:8080/",
          "height": 447
        },
        "id": "c03d1f73",
        "outputId": "950f9c93-74c2-4409-82fc-d101d67bfac8"
      },
      "outputs": [
        {
          "data": {
            "text/plain": [
              "<AxesSubplot:>"
            ]
          },
          "execution_count": 39,
          "metadata": {},
          "output_type": "execute_result"
        },
        {
          "data": {
            "image/png": "[encoded data removed]",
            "text/plain": [
              "<Figure size 432x288 with 1 Axes>"
            ]
          },
          "metadata": {
            "needs_background": "light"
          },
          "output_type": "display_data"
        }
      ],
      "source": [
        "model_loss = pd.DataFrame(model.history.history)\n",
        "model_loss.plot()"
      ]
    },
    {
      "cell_type": "code",
      "execution_count": null,
      "id": "d00f01ee",
      "metadata": {
        "id": "d00f01ee"
      },
      "outputs": [],
      "source": [
        "# Adding Dropout Layers\n",
        "\n",
        "from tensorflow.keras.layers import Dropout"
      ]
    },
    {
      "cell_type": "code",
      "execution_count": null,
      "id": "f8c690a2",
      "metadata": {
        "id": "f8c690a2"
      },
      "outputs": [],
      "source": [
        "model = Sequential()\n",
        "model.add(InputLayer(input_shape=(30,)))  # Explicitly adding input layer with 26 input features\n",
        "model.add(Dense(26,activation='relu'))\n",
        "model.add(Dropout(0.5))\n",
        "model.add(Dense(15,activation='relu'))\n",
        "model.add(Dropout(0.5))\n",
        "model.add(Dense(1,activation='sigmoid'))\n",
        "model.compile(loss='binary_crossentropy', optimizer='adam',metrics=['accuracy'])"
      ]
    },
    {
      "cell_type": "code",
      "execution_count": null,
      "id": "c6c3e956",
      "metadata": {
        "colab": {
          "base_uri": "https://localhost:8080/"
        },
        "id": "c6c3e956",
        "outputId": "6c965744-3412-46ee-8777-4c66caf51cb4"
      },
      "outputs": [
        {
          "name": "stdout",
          "output_type": "stream",
          "text": [
            "Epoch 1/150\n",
            "15/15 [==============================] - 1s 19ms/step - loss: 0.7382 - accuracy: 0.5758 - val_loss: 0.6797 - val_accuracy: 0.6754\n",
            "Epoch 2/150\n",
            "15/15 [==============================] - 0s 9ms/step - loss: 0.6891 - accuracy: 0.6088 - val_loss: 0.6690 - val_accuracy: 0.7368\n",
            "Epoch 3/150\n",
            "15/15 [==============================] - 0s 9ms/step - loss: 0.6772 - accuracy: 0.6044 - val_loss: 0.6595 - val_accuracy: 0.8333\n",
            "Epoch 4/150\n",
            "15/15 [==============================] - 0s 8ms/step - loss: 0.6556 - accuracy: 0.6901 - val_loss: 0.6507 - val_accuracy: 0.8772\n",
            "Epoch 5/150\n",
            "15/15 [==============================] - 0s 12ms/step - loss: 0.6490 - accuracy: 0.6593 - val_loss: 0.6363 - val_accuracy: 0.8772\n",
            "Epoch 6/150\n",
            "15/15 [==============================] - 0s 13ms/step - loss: 0.6484 - accuracy: 0.6945 - val_loss: 0.6197 - val_accuracy: 0.8596\n",
            "Epoch 7/150\n",
            "15/15 [==============================] - 0s 8ms/step - loss: 0.6346 - accuracy: 0.7121 - val_loss: 0.5995 - val_accuracy: 0.8684\n",
            "Epoch 8/150\n",
            "15/15 [==============================] - 0s 9ms/step - loss: 0.6139 - accuracy: 0.7011 - val_loss: 0.5705 - val_accuracy: 0.8772\n",
            "Epoch 9/150\n",
            "15/15 [==============================] - 0s 9ms/step - loss: 0.5845 - accuracy: 0.7692 - val_loss: 0.5234 - val_accuracy: 0.8860\n",
            "Epoch 10/150\n",
            "15/15 [==============================] - 0s 8ms/step - loss: 0.5536 - accuracy: 0.7538 - val_loss: 0.4800 - val_accuracy: 0.9035\n",
            "Epoch 11/150\n",
            "15/15 [==============================] - 0s 8ms/step - loss: 0.5296 - accuracy: 0.7692 - val_loss: 0.4507 - val_accuracy: 0.8947\n",
            "Epoch 12/150\n",
            "15/15 [==============================] - 0s 9ms/step - loss: 0.5051 - accuracy: 0.7802 - val_loss: 0.4208 - val_accuracy: 0.9123\n",
            "Epoch 13/150\n",
            "15/15 [==============================] - 0s 8ms/step - loss: 0.4849 - accuracy: 0.8176 - val_loss: 0.3930 - val_accuracy: 0.9211\n",
            "Epoch 14/150\n",
            "15/15 [==============================] - 0s 18ms/step - loss: 0.4738 - accuracy: 0.8330 - val_loss: 0.3671 - val_accuracy: 0.9298\n",
            "Epoch 15/150\n",
            "15/15 [==============================] - 0s 9ms/step - loss: 0.4361 - accuracy: 0.8659 - val_loss: 0.3436 - val_accuracy: 0.9298\n",
            "Epoch 16/150\n",
            "15/15 [==============================] - 0s 9ms/step - loss: 0.4349 - accuracy: 0.8527 - val_loss: 0.3279 - val_accuracy: 0.9035\n",
            "Epoch 17/150\n",
            "15/15 [==============================] - 0s 8ms/step - loss: 0.4110 - accuracy: 0.8527 - val_loss: 0.3267 - val_accuracy: 0.8947\n",
            "Epoch 18/150\n",
            "15/15 [==============================] - 0s 16ms/step - loss: 0.4056 - accuracy: 0.8440 - val_loss: 0.3126 - val_accuracy: 0.8947\n",
            "Epoch 19/150\n",
            "15/15 [==============================] - 0s 8ms/step - loss: 0.3954 - accuracy: 0.8352 - val_loss: 0.2962 - val_accuracy: 0.9035\n",
            "Epoch 20/150\n",
            "15/15 [==============================] - 0s 9ms/step - loss: 0.3852 - accuracy: 0.8549 - val_loss: 0.2776 - val_accuracy: 0.9123\n",
            "Epoch 21/150\n",
            "15/15 [==============================] - 0s 9ms/step - loss: 0.3559 - accuracy: 0.8571 - val_loss: 0.2713 - val_accuracy: 0.9123\n",
            "Epoch 22/150\n",
            "15/15 [==============================] - 0s 8ms/step - loss: 0.3438 - accuracy: 0.8681 - val_loss: 0.2796 - val_accuracy: 0.8947\n",
            "Epoch 23/150\n",
            "15/15 [==============================] - 0s 16ms/step - loss: 0.3343 - accuracy: 0.8703 - val_loss: 0.2541 - val_accuracy: 0.9211\n",
            "Epoch 24/150\n",
            "15/15 [==============================] - 0s 9ms/step - loss: 0.3182 - accuracy: 0.8813 - val_loss: 0.2440 - val_accuracy: 0.9211\n",
            "Epoch 25/150\n",
            "15/15 [==============================] - 0s 9ms/step - loss: 0.3046 - accuracy: 0.8857 - val_loss: 0.2596 - val_accuracy: 0.8947\n",
            "Epoch 26/150\n",
            "15/15 [==============================] - 0s 9ms/step - loss: 0.2939 - accuracy: 0.8989 - val_loss: 0.2252 - val_accuracy: 0.9211\n",
            "Epoch 27/150\n",
            "15/15 [==============================] - 0s 9ms/step - loss: 0.3108 - accuracy: 0.8703 - val_loss: 0.2478 - val_accuracy: 0.9035\n",
            "Epoch 28/150\n",
            "15/15 [==============================] - 0s 12ms/step - loss: 0.2956 - accuracy: 0.8857 - val_loss: 0.2407 - val_accuracy: 0.9123\n",
            "Epoch 29/150\n",
            "15/15 [==============================] - 0s 13ms/step - loss: 0.2799 - accuracy: 0.9099 - val_loss: 0.2316 - val_accuracy: 0.9123\n",
            "Epoch 30/150\n",
            "15/15 [==============================] - 0s 8ms/step - loss: 0.2620 - accuracy: 0.9055 - val_loss: 0.2400 - val_accuracy: 0.9123\n",
            "Epoch 31/150\n",
            "15/15 [==============================] - 0s 8ms/step - loss: 0.2491 - accuracy: 0.9209 - val_loss: 0.2367 - val_accuracy: 0.9123\n",
            "Epoch 32/150\n",
            "15/15 [==============================] - 0s 10ms/step - loss: 0.2735 - accuracy: 0.9055 - val_loss: 0.2401 - val_accuracy: 0.9123\n",
            "Epoch 33/150\n",
            "15/15 [==============================] - 0s 8ms/step - loss: 0.2341 - accuracy: 0.9231 - val_loss: 0.2597 - val_accuracy: 0.8947\n",
            "Epoch 34/150\n",
            "15/15 [==============================] - 0s 11ms/step - loss: 0.2552 - accuracy: 0.9187 - val_loss: 0.2330 - val_accuracy: 0.9123\n",
            "Epoch 35/150\n",
            "15/15 [==============================] - 0s 12ms/step - loss: 0.2548 - accuracy: 0.8989 - val_loss: 0.2452 - val_accuracy: 0.9123\n",
            "Epoch 36/150\n",
            "15/15 [==============================] - 0s 8ms/step - loss: 0.2377 - accuracy: 0.9165 - val_loss: 0.2509 - val_accuracy: 0.9035\n"
          ]
        },
        {
          "data": {
            "text/plain": [
              "<keras.callbacks.History at 0x1ea2c208f70>"
            ]
          },
          "execution_count": 42,
          "metadata": {},
          "output_type": "execute_result"
        }
      ],
      "source": [
        "model.fit(x=X_train,\n",
        "          y=y_train,\n",
        "          epochs=150,\n",
        "          validation_data=(X_test, y_test),\n",
        "          callbacks=[early_stop]\n",
        "          )"
      ]
    },
    {
      "cell_type": "code",
      "execution_count": null,
      "id": "e8beb9da",
      "metadata": {
        "id": "e8beb9da"
      },
      "outputs": [],
      "source": [
        "model_loss = pd.DataFrame(model.history.history)"
      ]
    },
    {
      "cell_type": "code",
      "execution_count": null,
      "id": "6049fd51",
      "metadata": {
        "colab": {
          "base_uri": "https://localhost:8080/",
          "height": 452
        },
        "id": "6049fd51",
        "outputId": "ccf1901a-357c-4ffe-f0b1-0975583a4829"
      },
      "outputs": [
        {
          "data": {
            "text/plain": [
              "<AxesSubplot:>"
            ]
          },
          "execution_count": 44,
          "metadata": {},
          "output_type": "execute_result"
        },
        {
          "data": {
            "image/png": "[encoded data removed]",
            "text/plain": [
              "<Figure size 432x288 with 1 Axes>"
            ]
          },
          "metadata": {
            "needs_background": "light"
          },
          "output_type": "display_data"
        }
      ],
      "source": [
        "model_loss.plot()"
      ]
    },
    {
      "cell_type": "code",
      "execution_count": null,
      "id": "omaN5Q9F_qyK",
      "metadata": {
        "colab": {
          "base_uri": "https://localhost:8080/"
        },
        "id": "omaN5Q9F_qyK",
        "outputId": "8d502252-edd8-46bb-99f8-0b0c80402c77"
      },
      "outputs": [
        {
          "name": "stdout",
          "output_type": "stream",
          "text": [
            "4/4 [==============================] - 0s 6ms/step - loss: 0.2509 - accuracy: 0.9035\n"
          ]
        }
      ],
      "source": [
        "score = model.evaluate(X_test, y_test)"
      ]
    },
    {
      "cell_type": "code",
      "execution_count": null,
      "id": "ym6kV_wK_0_J",
      "metadata": {
        "colab": {
          "base_uri": "https://localhost:8080/"
        },
        "id": "ym6kV_wK_0_J",
        "outputId": "aa37422c-eb5c-4e44-9bc8-5fda3582a15b"
      },
      "outputs": [
        {
          "name": "stdout",
          "output_type": "stream",
          "text": [
            "['loss', 'accuracy']\n",
            "[0.25091105699539185, 0.9035087823867798]\n"
          ]
        }
      ],
      "source": [
        "print(model.metrics_names)\n",
        "print(score)"
      ]
    },
    {
      "cell_type": "code",
      "execution_count": null,
      "id": "53c98dff",
      "metadata": {
        "id": "53c98dff"
      },
      "outputs": [],
      "source": [
        "from keras.models import load_model\n",
        "model.save('1234ES_Drop_model.h5')"
      ]
    },
    {
      "cell_type": "markdown",
      "id": "d5b0dfa4",
      "metadata": {
        "id": "d5b0dfa4"
      },
      "source": [
        "# Using model for future predictions."
      ]
    },
    {
      "cell_type": "code",
      "execution_count": null,
      "id": "4e168b4f",
      "metadata": {
        "id": "4e168b4f",
        "outputId": "7c56f06e-b81e-40b8-99d5-a00f02d555a3"
      },
      "outputs": [
        {
          "name": "stdout",
          "output_type": "stream",
          "text": [
            "['Benign']\n"
          ]
        }
      ],
      "source": [
        "import tensorflow as tf\n",
        "import pandas as pd\n",
        "from sklearn.preprocessing import StandardScaler\n",
        "import warnings\n",
        "\n",
        "warnings.filterwarnings(\"ignore\")\n",
        "\n",
        "# Load the model\n",
        "model = tf.keras.models.load_model('123ES_Drop_model.h5')\n",
        "\n",
        "# Example input data (replace with your own data)\n",
        "# Ensure you include all 30 features expected by the model\n",
        "input_data = {\n",
        "    'radius_mean': [14.0],\n",
        "    'texture_mean': [20.0],\n",
        "    'perimeter_mean': [90.0],\n",
        "    'area_mean': [600.0],\n",
        "    'smoothness_mean': [0.1],\n",
        "    'compactness_mean': [0.15],\n",
        "    'concavity_mean': [0.2],\n",
        "    'concave_points_mean': [0.1],\n",
        "    'symmetry_mean': [0.2],\n",
        "    'fractal_dimension_mean': [0.06],\n",
        "    'radius_se': [0.2],\n",
        "    'texture_se': [1.0],\n",
        "    'perimeter_se': [1.5],\n",
        "    'area_se': [20.0],\n",
        "    'smoothness_se': [0.005],\n",
        "    'compactness_se': [0.02],\n",
        "    'concavity_se': [0.03],\n",
        "    'concave_points_se': [0.01],\n",
        "    'symmetry_se': [0.03],\n",
        "    'fractal_dimension_se': [0.004],\n",
        "    'radius_worst': [16.0],\n",
        "    'texture_worst': [25.0],\n",
        "    'perimeter_worst': [105.0],\n",
        "    'area_worst': [800.0],\n",
        "    'smoothness_worst': [0.12],\n",
        "    'compactness_worst': [0.2],\n",
        "    'concavity_worst': [0.3],\n",
        "    'concave_points_worst': [0.15],\n",
        "    'symmetry_worst': [0.25],\n",
        "    'fractal_dimension_worst': [0.08]\n",
        "}\n",
        "\n",
        "# Convert to DataFrame\n",
        "input_df = pd.DataFrame(input_data)\n",
        "\n",
        "# Preprocess the input data (normalize, scale, etc.)\n",
        "scaler = StandardScaler()\n",
        "input_array = scaler.fit_transform(input_df)  # Directly use the transformed array\n",
        "\n",
        "# Make predictions\n",
        "predictions = model.predict(input_array)\n",
        "\n",
        "# For binary classification, convert probabilities to class labels\n",
        "predicted_classes = (predictions > 0.5).astype(\"int32\")  # Assuming a threshold of 0.5\n",
        "\n",
        "# # Example mapping for binary classification\n",
        "class_mapping = {0: 'Benign', 1: 'Malignant'}\n",
        "\n",
        "# List comprehension to map predicted class labels to their corresponding names\n",
        "predicted_class_names = []\n",
        "for label in predicted_classes:\n",
        "    predicted_class_names.append(class_mapping[label[0]])\n",
        "\n",
        "\n",
        "print(predicted_class_names)\n"
      ]
    },
    {
      "cell_type": "markdown",
      "id": "_k58adybCu0H",
      "metadata": {
        "id": "_k58adybCu0H"
      },
      "source": [
        "<center><h1> Happy Learning"
      ]
    }
  ],
  "metadata": {
    "accelerator": "GPU",
    "colab": {
      "gpuType": "T4",
      "provenance": []
    },
    "kernelspec": {
      "display_name": "Python 3 (ipykernel)",
      "language": "python",
      "name": "python3"
    },
    "language_info": {
      "codemirror_mode": {
        "name": "ipython",
        "version": 3
      },
      "file_extension": ".py",
      "mimetype": "text/x-python",
      "name": "python",
      "nbconvert_exporter": "python",
      "pygments_lexer": "ipython3",
      "version": "3.9.17"
    }
  },
  "nbformat": 4,
  "nbformat_minor": 5
}