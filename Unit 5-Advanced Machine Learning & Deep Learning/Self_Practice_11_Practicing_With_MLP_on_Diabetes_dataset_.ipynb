{
  "cells": [
    {
      "cell_type": "markdown",
      "id": "6f7b9f29",
      "metadata": {
        "id": "6f7b9f29"
      },
      "source": [
        "#  EDUNET FOUNDATION-Self Practice"
      ]
    },
    {
      "cell_type": "markdown",
      "id": "df5eaa12",
      "metadata": {
        "id": "df5eaa12"
      },
      "source": [
        "# Self Practice 11 : Practicing With MLP on Diabetes dataset​"
      ]
    },
    {
      "cell_type": "markdown",
      "id": "4f79941e",
      "metadata": {
        "id": "4f79941e"
      },
      "source": [
        "## Task: Classify `diabetes` dataset using MLP Classifier"
      ]
    },
    {
      "cell_type": "markdown",
      "id": "713e4ccc",
      "metadata": {
        "id": "713e4ccc"
      },
      "source": [
        "![mlp.png](attachment:mlp.png)"
      ]
    },
    {
      "cell_type": "markdown",
      "id": "22632f9f",
      "metadata": {
        "id": "22632f9f"
      },
      "source": [
        "The multilayer perceptron (MLP) is a feedforward artificial neural network model that maps input data sets to a set of appropriate outputs. An MLP consists of multiple layers and each layer is fully connected to the following one. The nodes of the layers are neurons with nonlinear activation functions, except for the nodes of the input layer. Between the input and the output layer there may be one or more nonlinear hidden layers."
      ]
    },
    {
      "cell_type": "markdown",
      "id": "43dc41a0",
      "metadata": {
        "id": "43dc41a0"
      },
      "source": [
        "## Solution"
      ]
    },
    {
      "cell_type": "markdown",
      "id": "042ca16f",
      "metadata": {
        "id": "042ca16f"
      },
      "source": [
        "Importing necessary libraries"
      ]
    },
    {
      "cell_type": "code",
      "execution_count": null,
      "id": "61b73733",
      "metadata": {
        "id": "61b73733"
      },
      "outputs": [],
      "source": [
        "#Creating ANN\n",
        "\n",
        "import pandas as pd\n",
        "import numpy as np\n",
        "import sklearn\n",
        "from sklearn.neural_network import MLPClassifier\n",
        "\n",
        "from sklearn.model_selection import train_test_split"
      ]
    },
    {
      "cell_type": "markdown",
      "id": "920b6550",
      "metadata": {
        "id": "920b6550"
      },
      "source": [
        "Importing database and creating training set and testing set\n",
        "Use the following dataset: https://learn.microsoft.com/en-us/azure/open-datasets/dataset-diabetes?tabs=azureml-opendatasets"
      ]
    },
    {
      "cell_type": "code",
      "execution_count": null,
      "id": "2bfc8000",
      "metadata": {
        "id": "2bfc8000"
      },
      "outputs": [],
      "source": [
        "df=pd.read_csv('diabetes.csv')"
      ]
    },
    {
      "cell_type": "code",
      "execution_count": null,
      "id": "c8023976",
      "metadata": {
        "id": "c8023976"
      },
      "outputs": [],
      "source": [
        "target_column=['Outcome']\n",
        "predictors= list(set(list(df.columns))-set(target_column))\n",
        "X=df[predictors].values\n",
        "y=df[target_column].values\n",
        "X_train, X_test, y_train, y_test= train_test_split(X,y,test_size=0.2, random_state=42)"
      ]
    },
    {
      "cell_type": "markdown",
      "id": "ab09f0a4",
      "metadata": {
        "id": "ab09f0a4"
      },
      "source": [
        "Creating MLP model"
      ]
    },
    {
      "cell_type": "code",
      "execution_count": null,
      "id": "59af0ad3",
      "metadata": {
        "id": "59af0ad3"
      },
      "outputs": [],
      "source": [
        "model=MLPClassifier(hidden_layer_sizes=(8,8,8), activation='relu', max_iter=500, solver='adam')"
      ]
    },
    {
      "cell_type": "markdown",
      "id": "ee88111a",
      "metadata": {
        "id": "ee88111a"
      },
      "source": [
        "Training Model"
      ]
    },
    {
      "cell_type": "code",
      "execution_count": null,
      "id": "455bc212",
      "metadata": {
        "id": "455bc212",
        "outputId": "3309a110-1a45-43a6-840d-2788d484582a"
      },
      "outputs": [
        {
          "name": "stderr",
          "output_type": "stream",
          "text": [
            "C:\\Users\\shrim\\anaconda3\\lib\\site-packages\\sklearn\\neural_network\\_multilayer_perceptron.py:1109: DataConversionWarning: A column-vector y was passed when a 1d array was expected. Please change the shape of y to (n_samples, ), for example using ravel().\n",
            "  y = column_or_1d(y, warn=True)\n"
          ]
        },
        {
          "data": {
            "text/plain": [
              "MLPClassifier(hidden_layer_sizes=(8, 8, 8), max_iter=500)"
            ]
          },
          "execution_count": 5,
          "metadata": {},
          "output_type": "execute_result"
        }
      ],
      "source": [
        "model.fit(X_train,y_train)"
      ]
    },
    {
      "cell_type": "markdown",
      "id": "eed46827",
      "metadata": {
        "id": "eed46827"
      },
      "source": [
        "Predicting with trained model"
      ]
    },
    {
      "cell_type": "code",
      "execution_count": null,
      "id": "544e603f",
      "metadata": {
        "id": "544e603f"
      },
      "outputs": [],
      "source": [
        "pred=model.predict(X_test)"
      ]
    },
    {
      "cell_type": "markdown",
      "id": "0a91843e",
      "metadata": {
        "id": "0a91843e"
      },
      "source": [
        "Printing the results"
      ]
    },
    {
      "cell_type": "code",
      "execution_count": null,
      "id": "03593eb8",
      "metadata": {
        "id": "03593eb8",
        "outputId": "845bef82-5405-44ce-b302-29e0b0ab925f"
      },
      "outputs": [
        {
          "name": "stdout",
          "output_type": "stream",
          "text": [
            "              precision    recall  f1-score   support\n",
            "\n",
            "           0       0.78      0.81      0.79        99\n",
            "           1       0.63      0.58      0.60        55\n",
            "\n",
            "    accuracy                           0.73       154\n",
            "   macro avg       0.70      0.69      0.70       154\n",
            "weighted avg       0.72      0.73      0.72       154\n",
            "\n"
          ]
        }
      ],
      "source": [
        "from sklearn.metrics import classification_report\n",
        "print(classification_report(y_test,pred))"
      ]
    },
    {
      "cell_type": "code",
      "execution_count": null,
      "id": "a99f6e8c",
      "metadata": {
        "id": "a99f6e8c",
        "outputId": "6d283ac5-def9-4306-fc9e-a8bfe48647a8"
      },
      "outputs": [
        {
          "name": "stdout",
          "output_type": "stream",
          "text": [
            "[[80 19]\n",
            " [23 32]]\n"
          ]
        }
      ],
      "source": [
        "from sklearn.metrics import confusion_matrix\n",
        "print(confusion_matrix(y_test,pred))"
      ]
    }
  ],
  "metadata": {
    "kernelspec": {
      "display_name": "Python 3 (ipykernel)",
      "language": "python",
      "name": "python3"
    },
    "language_info": {
      "codemirror_mode": {
        "name": "ipython",
        "version": 3
      },
      "file_extension": ".py",
      "mimetype": "text/x-python",
      "name": "python",
      "nbconvert_exporter": "python",
      "pygments_lexer": "ipython3",
      "version": "3.9.17"
    },
    "colab": {
      "provenance": []
    }
  },
  "nbformat": 4,
  "nbformat_minor": 5
}