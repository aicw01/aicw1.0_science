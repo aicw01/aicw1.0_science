{
 "cells": [
  {
   "attachments": {
    "image.png": {
     "image/png": "[encoded data removed]"
    }
   },
   "cell_type": "markdown",
   "id": "071950ce",
   "metadata": {},
   "source": [
    "![image.png](attachment:image.png)"
   ]
  },
  {
   "cell_type": "markdown",
   "id": "4fc3c071",
   "metadata": {},
   "source": [
    "# Edunet Foundation : Class Room Exercises"
   ]
  },
  {
   "cell_type": "markdown",
   "id": "130613d9",
   "metadata": {},
   "source": [
    "# Lab 7: Python Lists, Tuples, Dictionaries,and Sets.\n",
    "\n",
    "## Objective:\n",
    "\n",
    "The objective of this lab is Python Lists, Tuples, Dictionaries, Sets, and File Handling is to enable learners to manage and manipulate collections of data efficiently and handle file operations. By the end of this lesson, learners will be able to:\n",
    "\n",
    "- Create, access, and modify lists to store ordered collections of data.\n",
    "- Work with tuples to store immutable sequences of data.\n",
    "- Utilize dictionaries to store key-value pairs for quick data retrieval.\n",
    "- Apply sets to handle collections of unique items and perform set operations.\n",
    "\n",
    "This knowledge will equip learners with the tools to handle complex data structures, perform efficient data manipulation, and manage data storage in Python programs."
   ]
  },
  {
   "cell_type": "markdown",
   "id": "24462a3c-e34a-4224-af4a-049323475ee4",
   "metadata": {},
   "source": [
    "### Lists"
   ]
  },
  {
   "cell_type": "code",
   "execution_count": 1,
   "id": "088f3ea8-3434-424b-83a7-bc08695a6f4c",
   "metadata": {},
   "outputs": [],
   "source": [
    "mylist = [\"apple\", \"banana\", \"cherry\"]"
   ]
  },
  {
   "cell_type": "markdown",
   "id": "4b1fa7eb-a6b2-4879-883e-ca443fd46953",
   "metadata": {},
   "source": [
    "#### List\n",
    "Lists are used to store multiple items in a single variable.\n",
    "\n",
    "Lists are one of 4 built-in data types in Python used to store collections of data, the other 3 are Tuple, Set, and Dictionary, all with different qualities and usage.\n",
    "\n",
    "Lists are created using square brackets:"
   ]
  },
  {
   "cell_type": "code",
   "execution_count": 2,
   "id": "e40815d9-ca79-4955-b6ef-c2c14b77075a",
   "metadata": {},
   "outputs": [
    {
     "name": "stdout",
     "output_type": "stream",
     "text": [
      "['apple', 'banana', 'cherry']\n"
     ]
    }
   ],
   "source": [
    "thislist = [\"apple\", \"banana\", \"cherry\"]\n",
    "print(thislist)"
   ]
  },
  {
   "cell_type": "markdown",
   "id": "7c7478bf-b430-4b9c-91aa-734209790243",
   "metadata": {},
   "source": [
    "#### List Items\n",
    "List items are ordered, changeable, and allow duplicate values.\n",
    "\n",
    "List items are indexed, the first item has index [0], the second item has index [1] etc."
   ]
  },
  {
   "cell_type": "markdown",
   "id": "f87a36dd-19fe-4ce1-bc60-d89f3f0384ab",
   "metadata": {},
   "source": [
    "#### Ordered\n",
    "When we say that lists are ordered, it means that the items have a defined order, and that order will not change.\n",
    "\n",
    "If you add new items to a list, the new items will be placed at the end of the list."
   ]
  },
  {
   "cell_type": "markdown",
   "id": "77131d18-83f5-4ca5-8e45-bd428fa478e7",
   "metadata": {},
   "source": [
    "#### Changeable\n",
    "The list is changeable, meaning that we can change, add, and remove items in a list after it has been created.\n",
    "\n",
    "#### Allow Duplicates\n",
    "Since lists are indexed, lists can have items with the same value:"
   ]
  },
  {
   "cell_type": "markdown",
   "id": "d88d8af8-314b-4213-947c-d67fac961fdb",
   "metadata": {},
   "source": [
    "#### List Length\n",
    "To determine how many items a list has, use the len() function:"
   ]
  },
  {
   "cell_type": "code",
   "execution_count": 3,
   "id": "41aee868-12bb-4492-8361-9ace831d4129",
   "metadata": {},
   "outputs": [
    {
     "name": "stdout",
     "output_type": "stream",
     "text": [
      "3\n"
     ]
    }
   ],
   "source": [
    "thislist = [\"apple\", \"banana\", \"cherry\"]\n",
    "print(len(thislist))"
   ]
  },
  {
   "cell_type": "code",
   "execution_count": 4,
   "id": "3cbe5291-4333-464a-a68c-5ea1da114b04",
   "metadata": {},
   "outputs": [],
   "source": [
    "list1 = [\"apple\", \"banana\", \"cherry\"]\n",
    "list2 = [1, 5, 7, 9, 3]\n",
    "list3 = [True, False, False]"
   ]
  },
  {
   "cell_type": "code",
   "execution_count": 5,
   "id": "fbc1b6bd-01d1-40bd-96f2-7485f3b4667b",
   "metadata": {},
   "outputs": [],
   "source": [
    "list1 = [\"abc\", 34, True, 40, \"male\"]"
   ]
  },
  {
   "cell_type": "markdown",
   "id": "1e48b7d7-6136-416a-8ff3-30b8984686b9",
   "metadata": {},
   "source": [
    "#### The list() Constructor\n",
    "It is also possible to use the list() constructor when creating a new list."
   ]
  },
  {
   "cell_type": "code",
   "execution_count": 6,
   "id": "ced2939e-eea1-4bb8-a145-57fbc74f1a50",
   "metadata": {},
   "outputs": [
    {
     "name": "stdout",
     "output_type": "stream",
     "text": [
      "['apple', 'banana', 'cherry']\n"
     ]
    }
   ],
   "source": [
    "thislist = list((\"apple\", \"banana\", \"cherry\")) # note the double round-brackets\n",
    "print(thislist)"
   ]
  },
  {
   "cell_type": "code",
   "execution_count": 7,
   "id": "70f218ac-13a8-454f-b634-a71cbc160967",
   "metadata": {},
   "outputs": [
    {
     "name": "stdout",
     "output_type": "stream",
     "text": [
      "banana\n"
     ]
    }
   ],
   "source": [
    "thislist = [\"apple\", \"banana\", \"cherry\"]\n",
    "print(thislist[1])"
   ]
  },
  {
   "cell_type": "code",
   "execution_count": 8,
   "id": "ac7df752-a177-46fe-9bde-2490bf71fa71",
   "metadata": {},
   "outputs": [
    {
     "name": "stdout",
     "output_type": "stream",
     "text": [
      "Original List: ['Red', 'Black', 'Green']\n",
      "Updated List: ['Red', 'Black', 'Blue']\n"
     ]
    }
   ],
   "source": [
    "colors = ['Red', 'Black', 'Green']\n",
    "print('Original List:', colors)\n",
    "\n",
    "# changing the third item to 'Blue'\n",
    "colors[2] = 'Blue'\n",
    "\n",
    "print('Updated List:', colors)"
   ]
  },
  {
   "cell_type": "code",
   "execution_count": 9,
   "id": "65d793c4-e4d3-4a8c-b606-3efd4ac0456a",
   "metadata": {},
   "outputs": [
    {
     "name": "stdout",
     "output_type": "stream",
     "text": [
      "[2, 7, 9]\n"
     ]
    }
   ],
   "source": [
    "numbers = [2,4,7,9]\n",
    "\n",
    "# remove 4 from the list\n",
    "numbers.remove(4)\n",
    "\n",
    "print(numbers) \n",
    "\n",
    "# Output: [2, 7, 9]"
   ]
  },
  {
   "cell_type": "code",
   "execution_count": 10,
   "id": "b552f928-b2a1-4dfd-88a0-a1a80a896df9",
   "metadata": {},
   "outputs": [
    {
     "name": "stdout",
     "output_type": "stream",
     "text": [
      "apple\n",
      "banana\n",
      "orange\n"
     ]
    }
   ],
   "source": [
    "fruits = ['apple', 'banana', 'orange']\n",
    "\n",
    "# iterate through the list\n",
    "for fruit in fruits:\n",
    "    print(fruit)"
   ]
  },
  {
   "cell_type": "code",
   "execution_count": 22,
   "id": "ea70960f-a938-49d1-ab18-6c50566cedd0",
   "metadata": {},
   "outputs": [
    {
     "name": "stdout",
     "output_type": "stream",
     "text": [
      "1\n",
      "2\n",
      "3\n",
      "4\n",
      "[1, 2, 3, 4, 5, 6]\n",
      "[1, 2, 3, 4, 5, 6, 7]\n",
      "[3, 4, 5]\n",
      "[2, 4, 6]\n"
     ]
    }
   ],
   "source": [
    "list = [1,2,3,4,5,6,7]    \n",
    "print(list[0])    \n",
    "print(list[1])    \n",
    "print(list[2])    \n",
    "print(list[3])    \n",
    "# Slicing the elements    \n",
    "print(list[0:6])    \n",
    "# By default, the index value is 0 so its starts from the 0th element and go for index -1.    \n",
    "print(list[:])    \n",
    "print(list[2:5])    \n",
    "print(list[1:6:2])    "
   ]
  },
  {
   "cell_type": "markdown",
   "id": "bd844370-a30b-4dce-b63c-c240154ba3f7",
   "metadata": {},
   "source": [
    "### Tuples"
   ]
  },
  {
   "cell_type": "code",
   "execution_count": 11,
   "id": "85dc0e11-0e11-42d0-9757-22d2181881c4",
   "metadata": {},
   "outputs": [],
   "source": [
    "mytuple = (\"apple\", \"banana\", \"cherry\")"
   ]
  },
  {
   "cell_type": "markdown",
   "id": "d469ae6d-0601-42b0-a118-63f05351f114",
   "metadata": {},
   "source": [
    "Tuples are used to store multiple items in a single variable.\n",
    "\n",
    "Tuple is one of 4 built-in data types in Python used to store collections of data, the other 3 are List, Set, and Dictionary, all with different qualities and usage.\n",
    "\n",
    "A tuple is a collection which is ordered and unchangeable.\n",
    "\n",
    "Tuples are written with round brackets."
   ]
  },
  {
   "cell_type": "code",
   "execution_count": 12,
   "id": "48622cd1-0704-4a90-acde-0a293f172b55",
   "metadata": {},
   "outputs": [
    {
     "name": "stdout",
     "output_type": "stream",
     "text": [
      "('apple', 'banana', 'cherry')\n"
     ]
    }
   ],
   "source": [
    "thistuple = (\"apple\", \"banana\", \"cherry\")\n",
    "print(thistuple)"
   ]
  },
  {
   "cell_type": "markdown",
   "id": "cd19ff33-9002-4259-beae-fbe803d78f45",
   "metadata": {},
   "source": [
    "#### Tuple Items\n",
    "Tuple items are ordered, unchangeable, and allow duplicate values.\n",
    "\n",
    "Tuple items are indexed, the first item has index [0], the second item has index [1] etc.\n",
    "\n",
    "#### Ordered\n",
    "When we say that tuples are ordered, it means that the items have a defined order, and that order will not change.\n",
    "\n",
    "#### Unchangeable\n",
    "Tuples are unchangeable, meaning that we cannot change, add or remove items after the tuple has been created.\n",
    "\n",
    "#### Allow Duplicates\n",
    "Since tuples are indexed, they can have items with the same value:"
   ]
  },
  {
   "cell_type": "code",
   "execution_count": 13,
   "id": "37ed4a51-892b-4e78-a660-7cb1b16ae1f4",
   "metadata": {},
   "outputs": [
    {
     "name": "stdout",
     "output_type": "stream",
     "text": [
      "3\n"
     ]
    }
   ],
   "source": [
    "thistuple = (\"apple\", \"banana\", \"cherry\")\n",
    "print(len(thistuple))"
   ]
  },
  {
   "cell_type": "code",
   "execution_count": 14,
   "id": "dfdc9105-cba6-4369-9924-42517d4e07fa",
   "metadata": {},
   "outputs": [
    {
     "name": "stdout",
     "output_type": "stream",
     "text": [
      "<class 'tuple'>\n",
      "<class 'str'>\n"
     ]
    }
   ],
   "source": [
    "thistuple = (\"apple\",)\n",
    "print(type(thistuple))\n",
    "\n",
    "#NOT a tuple\n",
    "thistuple = (\"apple\")\n",
    "print(type(thistuple))"
   ]
  },
  {
   "cell_type": "code",
   "execution_count": 15,
   "id": "5b32cc96-e4c2-47df-a7db-b6f24de7df13",
   "metadata": {},
   "outputs": [],
   "source": [
    "tuple1 = (\"apple\", \"banana\", \"cherry\")\n",
    "tuple2 = (1, 5, 7, 9, 3)\n",
    "tuple3 = (True, False, False)"
   ]
  },
  {
   "cell_type": "code",
   "execution_count": 18,
   "id": "8f65237b-0a8a-42b5-b429-5fb169ec73aa",
   "metadata": {},
   "outputs": [
    {
     "name": "stdout",
     "output_type": "stream",
     "text": [
      "<class 'type'>\n"
     ]
    }
   ],
   "source": [
    "tuple1 = (\"abc\", 34, True, 40, \"male\")\n",
    "print(type(tuple))"
   ]
  },
  {
   "cell_type": "code",
   "execution_count": 19,
   "id": "9d620426-6322-43da-95d9-b57bb9e07330",
   "metadata": {},
   "outputs": [
    {
     "name": "stdout",
     "output_type": "stream",
     "text": [
      "banana\n"
     ]
    }
   ],
   "source": [
    "thistuple = (\"apple\", \"banana\", \"cherry\")\n",
    "print(thistuple[1])"
   ]
  },
  {
   "cell_type": "code",
   "execution_count": 21,
   "id": "77a2902c-0213-4829-b78a-88a95d98e8fc",
   "metadata": {},
   "outputs": [
    {
     "name": "stdout",
     "output_type": "stream",
     "text": [
      "Elements between indices 1 and 3:  ('Tuple', 'Ordered')\n",
      "Elements between indices 0 and -4:  ('Python', 'Tuple')\n",
      "Entire tuple:  ('Python', 'Tuple', 'Ordered', 'Immutable', 'Collection', 'Objects')\n"
     ]
    }
   ],
   "source": [
    "# Python program to show how slicing works in Python tuples    \n",
    "# Creating a tuple    \n",
    "tuple_ = (\"Python\", \"Tuple\", \"Ordered\", \"Immutable\", \"Collection\", \"Objects\")    \n",
    "# Using slicing to access elements of the tuple    \n",
    "print(\"Elements between indices 1 and 3: \", tuple_[1:3])    \n",
    "# Using negative indexing in slicing    \n",
    "print(\"Elements between indices 0 and -4: \", tuple_[:-4])    \n",
    "# Printing the entire tuple by using the default start and end values.     \n",
    "print(\"Entire tuple: \", tuple_[:])    "
   ]
  },
  {
   "cell_type": "markdown",
   "id": "162ffabb-97db-4e8e-9ba6-4a9e8569a8a1",
   "metadata": {},
   "source": [
    "### Dictionaries"
   ]
  },
  {
   "cell_type": "code",
   "execution_count": 23,
   "id": "b1bca164-5d93-4648-a982-a465867a7706",
   "metadata": {},
   "outputs": [
    {
     "data": {
      "text/plain": [
       "{'brand': 'Ford', 'model': 'Mustang', 'year': 1964}"
      ]
     },
     "execution_count": 23,
     "metadata": {},
     "output_type": "execute_result"
    }
   ],
   "source": [
    "thisdict = {\n",
    "  \"brand\": \"Ford\",\n",
    "  \"model\": \"Mustang\",\n",
    "  \"year\": 1964\n",
    "}\n",
    "thisdict"
   ]
  },
  {
   "cell_type": "markdown",
   "id": "5a0999c5-216f-439c-ac42-63c8d537fc65",
   "metadata": {},
   "source": [
    "\n",
    "Dictionaries are used to store data values in key:value pairs.\n",
    "\n",
    "A dictionary is a collection which is ordered*, changeable and do not allow duplicates."
   ]
  },
  {
   "cell_type": "code",
   "execution_count": 24,
   "id": "c54edcc5-1be8-4d14-854f-6327ba992852",
   "metadata": {},
   "outputs": [
    {
     "name": "stdout",
     "output_type": "stream",
     "text": [
      "<class 'dict'>\n",
      "printing Employee data .... \n",
      "{'Name': 'Johnny', 'Age': 32, 'salary': 26000, 'Company': '^TCS'}\n"
     ]
    }
   ],
   "source": [
    "Employee = {\"Name\": \"Johnny\", \"Age\": 32, \"salary\":26000,\"Company\":\"^TCS\"}        \n",
    "print(type(Employee))        \n",
    "print(\"printing Employee data .... \")        \n",
    "print(Employee)      "
   ]
  },
  {
   "cell_type": "code",
   "execution_count": 26,
   "id": "7dd5da01-df10-496b-b13d-935c41aec0e7",
   "metadata": {},
   "outputs": [
    {
     "name": "stdout",
     "output_type": "stream",
     "text": [
      "Empty Dictionary: \n",
      "{}\n",
      "\n",
      "Create Dictionary by using  dict(): \n",
      "{1: 'Hcl', 2: 'WIPRO', 3: 'Facebook'}\n",
      "\n",
      "Dictionary with each item as a pair: \n",
      "{4: 'Rinku', 2: 'Singh'}\n"
     ]
    }
   ],
   "source": [
    "# Creating an empty Dictionary       \n",
    "Dict = {}       \n",
    "print(\"Empty Dictionary: \")       \n",
    "print(Dict)       \n",
    "      \n",
    "# Creating a Dictionary       \n",
    "# with dict() method       \n",
    "Dict = dict({1: 'Hcl', 2: 'WIPRO', 3:'Facebook'})       \n",
    "print(\"\\nCreate Dictionary by using  dict(): \")       \n",
    "print(Dict)       \n",
    "      \n",
    "# Creating a Dictionary       \n",
    "# with each item as a Pair       \n",
    "Dict = dict([(4, 'Rinku'), (2, 'Singh')])       \n",
    "print(\"\\nDictionary with each item as a pair: \")       \n",
    "print(Dict)       "
   ]
  },
  {
   "cell_type": "code",
   "execution_count": 27,
   "id": "84001820-3e9a-4a6b-875e-ef4b7211ed12",
   "metadata": {},
   "outputs": [
    {
     "name": "stdout",
     "output_type": "stream",
     "text": [
      "<class 'dict'>\n",
      "printing Employee data .... \n",
      "Name : Dev\n",
      "Age : 20\n",
      "Salary : 45000\n",
      "Company : WIPRO\n"
     ]
    }
   ],
   "source": [
    "Employee = {\"Name\": \"Dev\", \"Age\": 20, \"salary\":45000,\"Company\":\"WIPRO\"}      \n",
    "print(type(Employee))      \n",
    "print(\"printing Employee data .... \")      \n",
    "print(\"Name : %s\" %Employee[\"Name\"])      \n",
    "print(\"Age : %d\" %Employee[\"Age\"])      \n",
    "print(\"Salary : %d\" %Employee[\"salary\"])      \n",
    "print(\"Company : %s\" %Employee[\"Company\"])   "
   ]
  },
  {
   "cell_type": "markdown",
   "id": "45d215f9-4042-4858-87b4-397b5daf785e",
   "metadata": {},
   "source": [
    "### Set"
   ]
  },
  {
   "cell_type": "markdown",
   "id": "ac971de8-d6ab-43eb-8d9d-8622b1e8f97c",
   "metadata": {},
   "source": [
    "A Python set is the collection of the unordered items. Each element in the set must be unique, immutable, and the sets remove the duplicate elements. Sets are mutable which means we can modify it after its creation."
   ]
  },
  {
   "cell_type": "code",
   "execution_count": 28,
   "id": "b78a2c7a-d100-4c1d-b463-abe9d3b5b1e7",
   "metadata": {},
   "outputs": [
    {
     "name": "stdout",
     "output_type": "stream",
     "text": [
      "{'Monday', 'Saturday', 'Friday', 'Thursday', 'Wednesday', 'Tuesday', 'Sunday'}\n",
      "<class 'set'>\n",
      "looping through the set elements ... \n",
      "Monday\n",
      "Saturday\n",
      "Friday\n",
      "Thursday\n",
      "Wednesday\n",
      "Tuesday\n",
      "Sunday\n"
     ]
    }
   ],
   "source": [
    "Days = {\"Monday\", \"Tuesday\", \"Wednesday\", \"Thursday\", \"Friday\", \"Saturday\", \"Sunday\"}    \n",
    "print(Days)    \n",
    "print(type(Days))    \n",
    "print(\"looping through the set elements ... \")    \n",
    "for i in Days:    \n",
    "    print(i)    "
   ]
  },
  {
   "cell_type": "code",
   "execution_count": 29,
   "id": "74d4f1bd-c58c-4d8a-a20d-33868ea2a98e",
   "metadata": {},
   "outputs": [
    {
     "name": "stdout",
     "output_type": "stream",
     "text": [
      "{'Monday', 'Saturday', 'Friday', 'Thursday', 'Sunday', 'Wednesday', 'Tuesday'}\n",
      "<class 'set'>\n",
      "looping through the set elements ... \n",
      "Monday\n",
      "Saturday\n",
      "Friday\n",
      "Thursday\n",
      "Sunday\n",
      "Wednesday\n",
      "Tuesday\n"
     ]
    }
   ],
   "source": [
    "Days = set([\"Monday\", \"Tuesday\", \"Wednesday\", \"Thursday\", \"Friday\", \"Saturday\", \"Sunday\"])    \n",
    "print(Days)    \n",
    "print(type(Days))    \n",
    "print(\"looping through the set elements ... \")    \n",
    "for i in Days:    \n",
    "    print(i)   "
   ]
  },
  {
   "cell_type": "markdown",
   "id": "802fdd5c",
   "metadata": {},
   "source": [
    "<center><h1> Happy Learning"
   ]
  }
 ],
 "metadata": {
  "kernelspec": {
   "display_name": "Python 3 (ipykernel)",
   "language": "python",
   "name": "python3"
  },
  "language_info": {
   "codemirror_mode": {
    "name": "ipython",
    "version": 3
   },
   "file_extension": ".py",
   "mimetype": "text/x-python",
   "name": "python",
   "nbconvert_exporter": "python",
   "pygments_lexer": "ipython3",
   "version": "3.9.17"
  }
 },
 "nbformat": 4,
 "nbformat_minor": 5
}
