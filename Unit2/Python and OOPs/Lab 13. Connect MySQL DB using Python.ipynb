{
 "cells": [
  {
   "attachments": {
    "image.png": {
     "image/png": "[encoded data removed]"
    }
   },
   "cell_type": "markdown",
   "id": "7a1eef8d",
   "metadata": {},
   "source": [
    "![image.png](attachment:image.png)"
   ]
  },
  {
   "cell_type": "markdown",
   "id": "5dfab800",
   "metadata": {},
   "source": [
    "# Edunet Foundation : Class Room Exercises"
   ]
  },
  {
   "cell_type": "markdown",
   "id": "e8e19b1b",
   "metadata": {},
   "source": [
    "# Lab 13: Connect MySQL DB using Python\n",
    "\n",
    "## Objective: \n",
    "\n",
    "The objective of this lab on Connecting MySQL DB using Python is to enable learners to interact with MySQL databases programmatically, allowing them to perform database operations seamlessly within their Python applications. By the end of this lesson, you will be able to:\n",
    "\n",
    "- Install and configure the necessary Python libraries to connect to a MySQL database.\n",
    "- Establish a connection to a MySQL database using Python.\n",
    "- Execute basic SQL operations (CRUD - Create, Read, Update, Delete) using Python.\n",
    "- Close database connections properly to maintain database integrity and performance.\n",
    "\n",
    "This knowledge will empower learners to integrate database functionality into their Python applications, enabling efficient data management and retrieval."
   ]
  },
  {
   "cell_type": "code",
   "execution_count": 12,
   "id": "469bcd33",
   "metadata": {},
   "outputs": [],
   "source": [
    "#!pip install mysql-connector-python"
   ]
  },
  {
   "cell_type": "markdown",
   "id": "1ee7307f",
   "metadata": {},
   "source": [
    "**Creating a Database**      \n",
    "To create a database in MySQL, use the \"CREATE DATABASE\" statement:"
   ]
  },
  {
   "cell_type": "code",
   "execution_count": 1,
   "id": "768d696a",
   "metadata": {},
   "outputs": [],
   "source": [
    "import mysql.connector\n",
    "\n",
    "mydb = mysql.connector.connect(\n",
    "  host=\"localhost\",\n",
    "  user=\"root\",\n",
    "  password=\"1234\"\n",
    ")\n",
    "\n",
    "mycursor = mydb.cursor()\n",
    "\n",
    "mycursor.execute(\"CREATE DATABASE mydatabase\")"
   ]
  },
  {
   "cell_type": "markdown",
   "id": "1b5fa280",
   "metadata": {},
   "source": [
    "If the above code was executed with no errors, you have successfully created a database."
   ]
  },
  {
   "cell_type": "markdown",
   "id": "23305de6",
   "metadata": {},
   "source": [
    "**Check if Database Exists**     \n",
    "You can check if a database exist by listing all databases in your system by using the \"SHOW DATABASES\" statement:"
   ]
  },
  {
   "cell_type": "code",
   "execution_count": 2,
   "id": "45729f01",
   "metadata": {},
   "outputs": [
    {
     "name": "stdout",
     "output_type": "stream",
     "text": [
      "('awesome chocolates',)\n",
      "('aziz',)\n",
      "('information_schema',)\n",
      "('mydatabase',)\n",
      "('mydatabase1234',)\n",
      "('mysql',)\n",
      "('performance_schema',)\n",
      "('southwind',)\n",
      "('sql_hr',)\n",
      "('sql_inventory',)\n",
      "('sql_invoicing',)\n",
      "('sql_store',)\n",
      "('sys',)\n",
      "('vsm_ato',)\n"
     ]
    }
   ],
   "source": [
    "import mysql.connector\n",
    "conn=mysql.connector.connect(host=\"localhost\", user=\"root\",\n",
    "                             password=\"1234\")\n",
    "\n",
    "c=conn.cursor()\n",
    "\n",
    "c.execute(\"show databases \")\n",
    "\n",
    "for i in c:\n",
    "    print(i)"
   ]
  },
  {
   "cell_type": "markdown",
   "id": "89b08c32",
   "metadata": {},
   "source": [
    "**Creating a Table**      \n",
    "To create a table in MySQL, use the \"CREATE TABLE\" statement.\n",
    "Make sure you define the name of the database when you create the connection"
   ]
  },
  {
   "cell_type": "code",
   "execution_count": 4,
   "id": "8687d481",
   "metadata": {},
   "outputs": [],
   "source": [
    "import mysql.connector\n",
    "\n",
    "db=mysql.connector.connect(\n",
    "    host=\"localhost\",\n",
    "    user=\"root\",\n",
    "    passwd=\"1234\",\n",
    "    database=\"aziz\"\n",
    "    )\n",
    "\n",
    "c=db.cursor()\n",
    "\n",
    "sql ='''CREATE TABLE ATAL12345(\n",
    "   Rno int not null primary key,\n",
    "   Name varchar(30) not null,\n",
    "   Branch CHAR(10),\n",
    "   Percentage FLOAT,\n",
    "   Email varchar(50),\n",
    "   MobileNo int)'''\n",
    "c.execute(sql)"
   ]
  },
  {
   "cell_type": "markdown",
   "id": "850ddb79",
   "metadata": {},
   "source": [
    "If the above code was executed with no errors, you have now successfully created a table."
   ]
  },
  {
   "cell_type": "markdown",
   "id": "804b9854",
   "metadata": {},
   "source": [
    "**Check if Table Exists**      \n",
    "You can check if a table exist by listing all tables in your database with the \"SHOW TABLES\" statement:"
   ]
  },
  {
   "cell_type": "code",
   "execution_count": 5,
   "id": "909bf8f1",
   "metadata": {},
   "outputs": [
    {
     "name": "stdout",
     "output_type": "stream",
     "text": [
      "('atal',)\n",
      "('atal1',)\n",
      "('atal12345',)\n",
      "('bike',)\n",
      "('rng1',)\n",
      "('students_info',)\n"
     ]
    }
   ],
   "source": [
    "import mysql.connector\n",
    "\n",
    "db=mysql.connector.connect(\n",
    "    host=\"localhost\",\n",
    "    user=\"root\",\n",
    "    passwd=\"1234\",\n",
    "    database=\"aziz\"\n",
    "    )\n",
    "\n",
    "c=db.cursor()\n",
    "c.execute(\"SHOW TABLES\")\n",
    "for i in c:\n",
    "    print(i)"
   ]
  },
  {
   "cell_type": "markdown",
   "id": "f0e23a2c",
   "metadata": {},
   "source": [
    "**Insert Into Table**       \n",
    "To fill a table in MySQL, use the \"INSERT INTO\" statement."
   ]
  },
  {
   "cell_type": "code",
   "execution_count": 6,
   "id": "4c14e3f9",
   "metadata": {},
   "outputs": [
    {
     "name": "stdout",
     "output_type": "stream",
     "text": [
      "1 record inserted.\n"
     ]
    }
   ],
   "source": [
    "import mysql.connector\n",
    "\n",
    "db=mysql.connector.connect(\n",
    "    host=\"localhost\",\n",
    "    user=\"root\",\n",
    "    passwd=\"1234\",\n",
    "    database=\"aziz\"\n",
    "    )\n",
    "\n",
    "mycursor = db.cursor()\n",
    "\n",
    "sql = \"INSERT INTO atal12345 (Rno, Name, Branch,Percentage, Email, MobileNo) VALUES (%s, %s, %s, %s, %s, %s)\"\n",
    "val = (\"61\", \"Sameera\", \"CSE\", \"72\",\n",
    "       \"asd@gmail.com\", \"1234567890\")\n",
    "\n",
    "mycursor.execute(sql, val)\n",
    "\n",
    "db.commit()\n",
    "\n",
    "print(mycursor.rowcount, \"record inserted.\")"
   ]
  },
  {
   "cell_type": "markdown",
   "id": "4aabb499",
   "metadata": {},
   "source": [
    "**Insert Multiple Rows**      \n",
    "To insert multiple rows into a table, use the `executemany()` method.\n",
    "The second parameter of the `executemany()` method is a list of tuples, containing the data you want to insert:"
   ]
  },
  {
   "cell_type": "code",
   "execution_count": 7,
   "id": "85b43090",
   "metadata": {},
   "outputs": [
    {
     "name": "stdout",
     "output_type": "stream",
     "text": [
      "8 record was inserted.\n"
     ]
    }
   ],
   "source": [
    "import mysql.connector\n",
    "\n",
    "db=mysql.connector.connect(\n",
    "    host=\"localhost\",\n",
    "    user=\"root\",\n",
    "    passwd=\"1234\",\n",
    "    database=\"aziz\"\n",
    "    )\n",
    "\n",
    "mycursor = db.cursor()\n",
    "\n",
    "sql = \"INSERT INTO atal12345 (Rno, Name, Branch, Percentage, Email, MobileNo) VALUES (%s,%s, %s, %s, %s, %s)\"\n",
    "val = [\n",
    " (\"01\", \"Anju\", \"ECE\", \"56\", \"abc@gmail.com\", \"1234565432\"),\n",
    " (\"02\", \"Kanwal\", \"ECE\", \"80\", \"abc@gmail.com\", \"1234565432\"),\n",
    " (\"03\", \"Sonu\", \"CSE\", \"85\", \"abc@gmail.com\", \"1234565432\"),\n",
    " (\"04\", \"Arun\", \"CSE\", \"83\", \"abc@gmail.com\", \"1234565432\"),\n",
    " (\"05\", \"Ravi\", \"CSE\", \"78\", \"abc@gmail.com\", \"1234565432\"),\n",
    " (\"06\", \"Anjali\", \"CSE\", \"65\", \"abc@gmail.com\", \"1234565432\"),\n",
    " (\"07\", \"Kesavan\", \"EEE\", \"95\", \"abc@gmail.com\", \"1234565432\"),\n",
    " (\"08\", \"Anu\", \"CSE\", \"55\", \"abc@gmail.com\", \"1234565432\"),\n",
    " ]\n",
    "mycursor.executemany(sql, val)\n",
    "db.commit()\n",
    "print(mycursor.rowcount, \"record was inserted.\")"
   ]
  },
  {
   "cell_type": "markdown",
   "id": "cc425eee",
   "metadata": {},
   "source": [
    "**Select From a Table**       \n",
    "To select from a table in MySQL, use the \"SELECT\" statement:"
   ]
  },
  {
   "cell_type": "code",
   "execution_count": 8,
   "id": "18275067",
   "metadata": {},
   "outputs": [
    {
     "name": "stdout",
     "output_type": "stream",
     "text": [
      "(1, 'Anju', 'ECE', 56.0, 'abc@gmail.com', 1234565432)\n",
      "(2, 'Kanwal', 'ECE', 80.0, 'abc@gmail.com', 1234565432)\n",
      "(3, 'Sonu', 'CSE', 85.0, 'abc@gmail.com', 1234565432)\n",
      "(4, 'Arun', 'CSE', 83.0, 'abc@gmail.com', 1234565432)\n",
      "(5, 'Ravi', 'CSE', 78.0, 'abc@gmail.com', 1234565432)\n",
      "(6, 'Anjali', 'CSE', 65.0, 'abc@gmail.com', 1234565432)\n",
      "(7, 'Kesavan', 'EEE', 95.0, 'abc@gmail.com', 1234565432)\n",
      "(8, 'Anu', 'CSE', 55.0, 'abc@gmail.com', 1234565432)\n",
      "(61, 'Sameera', 'CSE', 72.0, 'asd@gmail.com', 1234567890)\n"
     ]
    }
   ],
   "source": [
    "import mysql.connector\n",
    "\n",
    "db=mysql.connector.connect(\n",
    "    host=\"localhost\",\n",
    "    user=\"root\",\n",
    "    passwd=\"1234\",\n",
    "    database=\"aziz\"\n",
    "    )\n",
    "\n",
    "mycursor = db.cursor()\n",
    "\n",
    "mycursor.execute(\"SELECT * FROM atal12345\")\n",
    "\n",
    "myresult = mycursor.fetchall()\n",
    "\n",
    "for x in myresult:\n",
    "  print(x)"
   ]
  },
  {
   "cell_type": "markdown",
   "id": "3596e2de",
   "metadata": {},
   "source": [
    "Note: We use the `fetchall()` method, which fetches all rows from the last executed statement."
   ]
  },
  {
   "cell_type": "markdown",
   "id": "bd2db7b2",
   "metadata": {},
   "source": [
    "**Select With a Filter**       \n",
    "When selecting records from a table, you can filter the selection by using the \"WHERE\" statement:"
   ]
  },
  {
   "cell_type": "code",
   "execution_count": 9,
   "id": "204d3419",
   "metadata": {},
   "outputs": [
    {
     "name": "stdout",
     "output_type": "stream",
     "text": [
      "(1, 'Anju', 'ECE', 56.0, 'abc@gmail.com', 1234565432)\n",
      "(2, 'Kanwal', 'ECE', 80.0, 'abc@gmail.com', 1234565432)\n"
     ]
    }
   ],
   "source": [
    "import mysql.connector\n",
    "\n",
    "db=mysql.connector.connect(\n",
    "    host=\"localhost\",\n",
    "    user=\"root\",\n",
    "    passwd=\"1234\",\n",
    "    database=\"aziz\"\n",
    "    )\n",
    "\n",
    "mycursor = db.cursor()\n",
    "\n",
    "sql = \"SELECT * FROM atal12345 WHERE branch = 'ECE'\"\n",
    "\n",
    "mycursor.execute(sql)\n",
    "\n",
    "myresult = mycursor.fetchall()\n",
    "\n",
    "for x in myresult:\n",
    "  print(x)"
   ]
  },
  {
   "cell_type": "markdown",
   "id": "e8f2f724",
   "metadata": {},
   "source": [
    "**Delete Record**      \n",
    "You can delete records from an existing table by using the \"DELETE FROM\" statement:"
   ]
  },
  {
   "cell_type": "code",
   "execution_count": 10,
   "id": "d911652b",
   "metadata": {},
   "outputs": [
    {
     "name": "stdout",
     "output_type": "stream",
     "text": [
      "1 record(s) deleted\n"
     ]
    }
   ],
   "source": [
    "import mysql.connector\n",
    "\n",
    "db=mysql.connector.connect(\n",
    "    host=\"localhost\",\n",
    "    user=\"root\",\n",
    "    passwd=\"1234\",\n",
    "    database=\"aziz\"\n",
    "    )\n",
    "\n",
    "mycursor = db.cursor()\n",
    "\n",
    "sql = \"DELETE FROM atal12345 WHERE Name = 'Anu'\"\n",
    "\n",
    "mycursor.execute(sql)\n",
    "\n",
    "db.commit()\n",
    "\n",
    "print(mycursor.rowcount, \"record(s) deleted\")"
   ]
  },
  {
   "cell_type": "markdown",
   "id": "7f6d75b5",
   "metadata": {},
   "source": [
    "Important!: Notice the statement: `mydb.commit()`. It is required to make the changes, otherwise no changes are made to the table."
   ]
  },
  {
   "cell_type": "markdown",
   "id": "8b558b5e",
   "metadata": {},
   "source": [
    "<center><h1> Happy Learning"
   ]
  }
 ],
 "metadata": {
  "kernelspec": {
   "display_name": "Python 3 (ipykernel)",
   "language": "python",
   "name": "python3"
  },
  "language_info": {
   "codemirror_mode": {
    "name": "ipython",
    "version": 3
   },
   "file_extension": ".py",
   "mimetype": "text/x-python",
   "name": "python",
   "nbconvert_exporter": "python",
   "pygments_lexer": "ipython3",
   "version": "3.9.17"
  }
 },
 "nbformat": 4,
 "nbformat_minor": 5
}
