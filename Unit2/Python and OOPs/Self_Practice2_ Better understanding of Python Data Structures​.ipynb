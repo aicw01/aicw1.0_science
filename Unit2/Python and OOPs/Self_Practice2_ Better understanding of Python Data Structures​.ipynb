{
 "cells": [
  {
   "cell_type": "markdown",
   "metadata": {},
   "source": [
    "#  EDUNET FOUNDATION - Self-Practice Exercise Notebook solutions \n",
    "# Self_Practice2_ Better understanding of Python Data Structures​"
   ]
  },
  {
   "cell_type": "markdown",
   "metadata": {},
   "source": [
    "Problem 1:Predict proper output for the below code "
   ]
  },
  {
   "cell_type": "code",
   "execution_count": 1,
   "metadata": {},
   "outputs": [
    {
     "name": "stdout",
     "output_type": "stream",
     "text": [
      "e\n"
     ]
    }
   ],
   "source": [
    "a = \"Hello, World!\"\n",
    "print(a[1])"
   ]
  },
  {
   "cell_type": "markdown",
   "metadata": {},
   "source": [
    "Problem 2\"Write a python program to concatenate two strings"
   ]
  },
  {
   "cell_type": "code",
   "execution_count": 6,
   "metadata": {},
   "outputs": [
    {
     "name": "stdout",
     "output_type": "stream",
     "text": [
      "HelloWorld\n"
     ]
    }
   ],
   "source": [
    "# Python program to  \n",
    "# string concatenation  \n",
    "  \n",
    "str1 = \"Hello\"  \n",
    "str2 = \"World\"  \n",
    "  \n",
    "# join() method is used to combine the strings  \n",
    "print(\"\".join([str1, str2]))  \n",
    "  \n",
    "# join() method is used to combine  \n",
    "# the string with a separator Space(\" \")  \n",
    "str3 = \" \".join([str1, str2])  "
   ]
  },
  {
   "cell_type": "markdown",
   "metadata": {},
   "source": [
    "Problem 3: Write a python program to reverse string"
   ]
  },
  {
   "cell_type": "code",
   "execution_count": 3,
   "metadata": {},
   "outputs": [
    {
     "name": "stdout",
     "output_type": "stream",
     "text": [
      "code practice string\n"
     ]
    }
   ],
   "source": [
    "# Python code\n",
    "# To reverse words in a given string\n",
    " \n",
    "# input string\n",
    "string = \"string practice code\"\n",
    "# reversing words in a given string\n",
    "s = string.split()[::-1]\n",
    "l = []\n",
    "for i in s:\n",
    "    # appending reversed words to l\n",
    "    l.append(i)\n",
    "# printing reverse words\n",
    "print(\" \".join(l))"
   ]
  },
  {
   "cell_type": "markdown",
   "metadata": {},
   "source": [
    "Problem 4: Write a Python program to get the 4th element from the last element of a tuple."
   ]
  },
  {
   "cell_type": "code",
   "execution_count": 2,
   "metadata": {},
   "outputs": [
    {
     "name": "stdout",
     "output_type": "stream",
     "text": [
      "('A', 'B', 'r', 'e', 's', 'o', 'u', 'r', 'c', 'e')\n",
      "e\n",
      "u\n"
     ]
    }
   ],
   "source": [
    "# Create a tuple containing a sequence of items\n",
    "tuplex = (\"A\", 'B', \"r\", \"e\", \"s\", \"o\", \"u\", \"r\", \"c\", \"e\")\n",
    "# Print the contents of the 'tuplex' tuple\n",
    "print(tuplex)\n",
    "\n",
    "# Get the 4th element of the tuple (index 3)\n",
    "item = tuplex[3]\n",
    "# Print the value of the 'item'\n",
    "print(item)\n",
    "\n",
    "# Get the 4th element from the end of the tuple (index -4)\n",
    "item1 = tuplex[-4]\n",
    "# Print the value of the 'item1'\n",
    "print(item1) "
   ]
  },
  {
   "cell_type": "code",
   "execution_count": null,
   "metadata": {},
   "outputs": [],
   "source": []
  }
 ],
 "metadata": {
  "kernelspec": {
   "display_name": "Python 3 (ipykernel)",
   "language": "python",
   "name": "python3"
  },
  "language_info": {
   "codemirror_mode": {
    "name": "ipython",
    "version": 3
   },
   "file_extension": ".py",
   "mimetype": "text/x-python",
   "name": "python",
   "nbconvert_exporter": "python",
   "pygments_lexer": "ipython3",
   "version": "3.9.17"
  }
 },
 "nbformat": 4,
 "nbformat_minor": 4
}
