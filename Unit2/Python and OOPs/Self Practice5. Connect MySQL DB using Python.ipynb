{
 "cells": [
  {
   "cell_type": "markdown",
   "id": "5dfab800",
   "metadata": {},
   "source": [
    "# Edunet Foundation : Self Practice"
   ]
  },
  {
   "cell_type": "markdown",
   "id": "1ee7307f",
   "metadata": {},
   "source": [
    "**Creating a Database**      \n",
    "To create a database in MySQL, use the \"CREATE DATABASE\" statement:"
   ]
  },
  {
   "cell_type": "code",
   "execution_count": 1,
   "id": "768d696a",
   "metadata": {},
   "outputs": [],
   "source": []
  },
  {
   "cell_type": "markdown",
   "id": "23305de6",
   "metadata": {},
   "source": [
    "**Check if Database Exists**     \n",
    "You can check if a database exist by listing all databases in your system by using the \"SHOW DATABASES\" statement:"
   ]
  },
  {
   "cell_type": "markdown",
   "id": "89b08c32",
   "metadata": {},
   "source": [
    "**Creating a Table**      \n",
    "To create a table in MySQL, use the \"CREATE TABLE\" statement.\n",
    "Make sure you define the name of the database when you create the connection"
   ]
  },
  {
   "cell_type": "code",
   "execution_count": null,
   "id": "a308dd3e",
   "metadata": {},
   "outputs": [],
   "source": []
  },
  {
   "cell_type": "code",
   "execution_count": 4,
   "id": "8687d481",
   "metadata": {},
   "outputs": [],
   "source": []
  },
  {
   "cell_type": "markdown",
   "id": "804b9854",
   "metadata": {},
   "source": [
    "**Check if Table Exists**      \n",
    "You can check if a table exist by listing all tables in your database with the \"SHOW TABLES\" statement:"
   ]
  },
  {
   "cell_type": "markdown",
   "id": "f0e23a2c",
   "metadata": {},
   "source": [
    "**Insert Into Table**       \n",
    "To fill a table in MySQL, use the \"INSERT INTO\" statement."
   ]
  },
  {
   "cell_type": "code",
   "execution_count": null,
   "id": "927cb5ac",
   "metadata": {},
   "outputs": [],
   "source": []
  },
  {
   "cell_type": "markdown",
   "id": "4aabb499",
   "metadata": {},
   "source": [
    "**Insert Multiple Rows**      \n",
    "To insert multiple rows into a table, use the `executemany()` method.\n",
    "The second parameter of the `executemany()` method is a list of tuples, containing the data you want to insert:"
   ]
  },
  {
   "cell_type": "code",
   "execution_count": null,
   "id": "6c520a92",
   "metadata": {},
   "outputs": [],
   "source": []
  },
  {
   "cell_type": "markdown",
   "id": "cc425eee",
   "metadata": {},
   "source": [
    "**Select From a Table**       \n",
    "To select from a table in MySQL, use the \"SELECT\" statement:"
   ]
  },
  {
   "cell_type": "code",
   "execution_count": null,
   "id": "649ff2a7",
   "metadata": {},
   "outputs": [],
   "source": []
  },
  {
   "cell_type": "code",
   "execution_count": null,
   "id": "ab031774",
   "metadata": {},
   "outputs": [],
   "source": []
  },
  {
   "cell_type": "markdown",
   "id": "bd2db7b2",
   "metadata": {},
   "source": [
    "**Select With a Filter**       \n",
    "When selecting records from a table, you can filter the selection by using the \"WHERE\" statement:"
   ]
  },
  {
   "cell_type": "code",
   "execution_count": null,
   "id": "010482b4",
   "metadata": {},
   "outputs": [],
   "source": []
  },
  {
   "cell_type": "markdown",
   "id": "e8f2f724",
   "metadata": {},
   "source": [
    "**Delete Record**      \n",
    "You can delete records from an existing table by using the \"DELETE FROM\" statement:"
   ]
  },
  {
   "cell_type": "code",
   "execution_count": null,
   "id": "4c0b2320",
   "metadata": {},
   "outputs": [],
   "source": []
  },
  {
   "cell_type": "markdown",
   "id": "8b558b5e",
   "metadata": {},
   "source": [
    "<center><h1> Happy Learning"
   ]
  }
 ],
 "metadata": {
  "kernelspec": {
   "display_name": "Python 3 (ipykernel)",
   "language": "python",
   "name": "python3"
  },
  "language_info": {
   "codemirror_mode": {
    "name": "ipython",
    "version": 3
   },
   "file_extension": ".py",
   "mimetype": "text/x-python",
   "name": "python",
   "nbconvert_exporter": "python",
   "pygments_lexer": "ipython3",
   "version": "3.9.17"
  }
 },
 "nbformat": 4,
 "nbformat_minor": 5
}
