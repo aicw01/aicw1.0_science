{
 "cells": [
  {
   "attachments": {
    "image.png": {
     "image/png": "[encoded data removed]"
    }
   },
   "cell_type": "markdown",
   "id": "d4623bfe",
   "metadata": {},
   "source": [
    "![image.png](attachment:image.png)"
   ]
  },
  {
   "cell_type": "markdown",
   "id": "adaa652c",
   "metadata": {},
   "source": [
    "# Edunet Foundation : Class Room Exercises"
   ]
  },
  {
   "cell_type": "markdown",
   "id": "3bcb89c8",
   "metadata": {},
   "source": [
    "# Lab 5 Exploring Python Operators A HandsOn Lab​\n",
    "\n",
    "### Objective:\n",
    "\n",
    "The objective of this practical on Python Variables, Datatypes, and Operators is to provide a foundational understanding of how to work with data in Python. By the end of this lesson, learners will be able to:\n",
    "\n",
    "- Define and use variables to store data.\n",
    "- Identify and utilize different datatypes such as integers, floats, strings, and booleans.\n",
    "- Perform operations using arithmetic, comparison, and logical operators.\n",
    "- Apply best practices for naming variables and writing clean, readable code.\n",
    "\n",
    "This knowledge will enable learners to write efficient Python programs, manipulate data effectively, and build a strong foundation for more advanced programming concepts."
   ]
  },
  {
   "cell_type": "code",
   "execution_count": null,
   "id": "3d2e24ff-21c2-4c45-a183-8c2e99eb8f21",
   "metadata": {},
   "outputs": [],
   "source": []
  },
  {
   "cell_type": "markdown",
   "id": "58e8eccb-bee7-4f41-8584-d030933ae43c",
   "metadata": {},
   "source": [
    "### Python Operators\n",
    "Operators are used to perform operations on variables and values.\n",
    "\n",
    "In the example below, we use the + operator to add together two values:"
   ]
  },
  {
   "cell_type": "code",
   "execution_count": 24,
   "id": "c2e0de6a-2c7e-495d-a73c-21945f51b180",
   "metadata": {},
   "outputs": [
    {
     "name": "stdout",
     "output_type": "stream",
     "text": [
      "15\n"
     ]
    }
   ],
   "source": [
    "print(10 + 5)"
   ]
  },
  {
   "cell_type": "markdown",
   "id": "799ea213-fbbc-4f4d-8c6d-a689d4c813af",
   "metadata": {},
   "source": [
    "#### Python divides the operators in the following groups:\n",
    "\n",
    "- Arithmetic operators\n",
    "- Assignment operators\n",
    "- Comparison operators\n",
    "- Logical operators\n",
    "- Identity operators\n",
    "- Membership operators\n",
    "- Bitwise operators"
   ]
  },
  {
   "cell_type": "markdown",
   "id": "cef823a5-754a-4789-80c6-aa115ac2de3b",
   "metadata": {},
   "source": [
    "#### 1: Arithmetic Operators "
   ]
  },
  {
   "cell_type": "markdown",
   "id": "1725bb0e-5187-42b6-8bb2-f78d7bf86ff3",
   "metadata": {},
   "source": [
    "a = 7\n",
    "b = 2\n",
    "print ('Sum: ', a + b)  \n",
    "print ('Subtraction: ', a - b)   \n",
    "print ('Multiplication: ', a * b)  \n",
    "print ('Division: ', a / b) \n",
    "print ('Floor Division: ', a // b)\n",
    "print ('Modulo: ', a % b)  \n",
    "print ('Power: ', a ** b)   "
   ]
  },
  {
   "cell_type": "markdown",
   "id": "471ac825-ec87-4a3b-b2b1-41f296dc79fb",
   "metadata": {},
   "source": [
    "#### 2: Assignment Operators"
   ]
  },
  {
   "cell_type": "code",
   "execution_count": 27,
   "id": "c822ef69-3506-4874-a9b3-f52ec068730c",
   "metadata": {},
   "outputs": [
    {
     "name": "stdout",
     "output_type": "stream",
     "text": [
      "15\n"
     ]
    }
   ],
   "source": [
    "a = 10\n",
    "b = 5 \n",
    "a += b      # a = a + b\n",
    "print(a)"
   ]
  },
  {
   "cell_type": "markdown",
   "id": "0ea022ca-4e0e-4539-9ecd-02bc17cc278e",
   "metadata": {},
   "source": [
    "### 3. Python Comparison Operators"
   ]
  },
  {
   "cell_type": "code",
   "execution_count": 28,
   "id": "1ac7b508-b30a-49da-8f1d-58648540f7b5",
   "metadata": {},
   "outputs": [
    {
     "name": "stdout",
     "output_type": "stream",
     "text": [
      "a == b = False\n",
      "a != b = True\n",
      "a > b = True\n",
      "a < b = False\n",
      "a >= b = True\n",
      "a <= b = False\n"
     ]
    }
   ],
   "source": [
    "a = 5\n",
    "b = 2\n",
    "print('a == b =', a == b)\n",
    "print('a != b =', a != b)\n",
    "print('a > b =', a > b)\n",
    "print('a < b =', a < b)\n",
    "print('a >= b =', a >= b)\n",
    "print('a <= b =', a <= b)"
   ]
  },
  {
   "cell_type": "markdown",
   "id": "e35498cf-f296-4a6e-aecd-557b88a3121f",
   "metadata": {},
   "source": [
    "### 4. Python Logical Operators"
   ]
  },
  {
   "cell_type": "code",
   "execution_count": 29,
   "id": "2cedea09-a945-47db-a512-d862698c8ede",
   "metadata": {},
   "outputs": [
    {
     "name": "stdout",
     "output_type": "stream",
     "text": [
      "True\n",
      "False\n",
      "True\n",
      "False\n"
     ]
    }
   ],
   "source": [
    "print(True and True)     # True\n",
    "print(True and False)    # False\n",
    "print(True or False)     # True\n",
    "print(not True)          # False"
   ]
  },
  {
   "cell_type": "markdown",
   "id": "b62b3eac-8e12-48d4-97df-26976fd82afa",
   "metadata": {},
   "source": [
    "### 5. Python Bitwise operators"
   ]
  },
  {
   "cell_type": "code",
   "execution_count": 30,
   "id": "3945ef3a-afd1-4f0f-94fe-441a689665a0",
   "metadata": {},
   "outputs": [
    {
     "name": "stdout",
     "output_type": "stream",
     "text": [
      "2\n",
      "14\n",
      "-11\n",
      "12\n",
      "40\n",
      "5\n"
     ]
    }
   ],
   "source": [
    "a=10\n",
    "b=6\n",
    "print(a & b)\n",
    "print(a | b)\n",
    "print(~a)\n",
    "print(a ^ b)\n",
    "print(a << 2)\n",
    "print(a >> 1)"
   ]
  },
  {
   "cell_type": "markdown",
   "id": "44f7c040-36f3-4d50-a566-363e16aca5fa",
   "metadata": {},
   "source": [
    "#### 6. Identity operators in Python"
   ]
  },
  {
   "cell_type": "code",
   "execution_count": 31,
   "id": "6dbaca3a-09cc-4b71-a663-6a55702a42eb",
   "metadata": {},
   "outputs": [
    {
     "name": "stdout",
     "output_type": "stream",
     "text": [
      "False\n",
      "True\n",
      "False\n"
     ]
    }
   ],
   "source": [
    "x1 = 5\n",
    "y1 = 5\n",
    "x2 = 'Hello'\n",
    "y2 = 'Hello'\n",
    "x3 = [1,2,3]\n",
    "y3 = [1,2,3]\n",
    "print(x1 is not y1)  # prints False\n",
    "print(x2 is y2)  # prints True\n",
    "print(x3 is y3)  # prints False"
   ]
  },
  {
   "cell_type": "markdown",
   "id": "228cbd30-0ff8-4ac9-9996-71878066bd03",
   "metadata": {},
   "source": [
    "#### 7. Membership operators"
   ]
  },
  {
   "cell_type": "code",
   "execution_count": 32,
   "id": "7d8b9ca8-f58e-4eb9-b9d9-f1d27a749acb",
   "metadata": {},
   "outputs": [
    {
     "name": "stdout",
     "output_type": "stream",
     "text": [
      "True\n",
      "True\n",
      "True\n",
      "False\n"
     ]
    }
   ],
   "source": [
    "message = 'Hello world'\n",
    "dict1 = {1:'a', 2:'b'}\n",
    "\n",
    "# check if 'H' is present in message string\n",
    "print('H' in message)  # prints True\n",
    "\n",
    "# check if 'hello' is present in message string\n",
    "print('hello' not in message)  # prints True\n",
    "\n",
    "# check if '1' key is present in dict1\n",
    "print(1 in dict1)  # prints True\n",
    "\n",
    "# check if 'a' key is present in dict1\n",
    "print('a' in dict1)  # prints False"
   ]
  },
  {
   "cell_type": "markdown",
   "id": "a39203be",
   "metadata": {},
   "source": [
    "<center><h1> Happy Learning"
   ]
  }
 ],
 "metadata": {
  "kernelspec": {
   "display_name": "Python 3 (ipykernel)",
   "language": "python",
   "name": "python3"
  },
  "language_info": {
   "codemirror_mode": {
    "name": "ipython",
    "version": 3
   },
   "file_extension": ".py",
   "mimetype": "text/x-python",
   "name": "python",
   "nbconvert_exporter": "python",
   "pygments_lexer": "ipython3",
   "version": "3.13.5"
  }
 },
 "nbformat": 4,
 "nbformat_minor": 5
}
